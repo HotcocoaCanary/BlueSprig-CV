{
 "cells": [
  {
   "metadata": {},
   "cell_type": "markdown",
   "source": [
    "# BlueSprig-CV 蓝枝简历 — 简单demo演示\n",
    "## 1. 概述\n",
    "    本demo演示了本组使用蓝心大模型，通过构建prompt和message，实现了部分最终产品功能的python代码演示\n",
    "\n",
    "主要功能\n",
    "1. 解析word，pdf或者图片格式的简历，给出构建后的规范化简历json格式\n",
    "2. 根据规范化简历json，生成当前简历各个模块的评分，优化后的版本以及优化建议，提供多轮对话，可以按照用户的想法继续优化\n",
    "3. 根据规范化简历json，基于场景构建一场模拟面试，用语音播放题目，允许用户使用语音或文字回答问题，并在最终给出面试评分\n",
    "    1. 面试场景可以分为：技术面试、产品面试、HR面试、技术+产品面试、技术+HR面试等等，后续可能根据不同行业标准进行调整，可以通过RAG减弱大模型幻觉现象，保证面试题更贴近真实面试，（本功能点因为时间问题当前demo并未实现）\n"
   ],
   "id": "512b0e128f255603"
  },
  {
   "metadata": {},
   "cell_type": "markdown",
   "source": [
    "## 2. 主要功能演示\n",
    "### 1. 解析word，pdf或者图片格式的简历，给出构建后的规范化简历json格式"
   ],
   "id": "84b05f613fb571f8"
  },
  {
   "metadata": {
    "ExecuteTime": {
     "end_time": "2025-05-01T14:49:55.951471Z",
     "start_time": "2025-05-01T14:49:55.436058Z"
    }
   },
   "cell_type": "code",
   "source": [
    "import json\n",
    "\n",
    "# 工具方法\n",
    "from util.file_loader import load_file\n",
    "from util.llm import format_resume\n",
    "\n",
    "\n",
    "# 定义一个函数，用于读取txt文件\n",
    "def read_txt(file_path):\n",
    "    # 打开文件，以只读模式，编码格式为utf-8\n",
    "    with open(file_path, 'r', encoding='utf-8') as file:\n",
    "        # 读取文件内容，并去除首尾空格\n",
    "        return file.read().strip()"
   ],
   "id": "b34692beeab2f22",
   "outputs": [],
   "execution_count": 1
  },
  {
   "cell_type": "code",
   "id": "e58af40c5c13509b",
   "metadata": {
    "ExecuteTime": {
     "end_time": "2025-05-01T14:49:56.336791Z",
     "start_time": "2025-05-01T14:49:56.187806Z"
    }
   },
   "source": [
    "# 读取简历文件\n",
    "resume_path = 'assets/pdf/1.pdf'\n",
    "content = load_file(resume_path)\n",
    "content"
   ],
   "outputs": [
    {
     "data": {
      "text/plain": [
       "'张文博\\n意向岗位: 后端开发。\\n            \\n            \\n            \\n\\n电话：15602032933\\n邮箱：Hotcocoa.Canary@outlook.com。\\n            \\n            \\n            \\n\\n性别：男\\n年龄：21。\\n            \\n            \\n            \\n\\n户籍：内蒙古自治区\\n政治面貌：共青团员。\\n            \\n            \\n            \\n\\n民族：汉。\\n            \\n            \\n            \\n\\n求职意向。\\n            \\n            \\n            \\n\\n意向岗位: 后端开发\\n意向城市: 北京。\\n            \\n            \\n            \\n\\n期望薪资: 8k-20k\\n求职类型: 校招。\\n            \\n            \\n            \\n\\n期望行业: 计算机软件\\n当前状态: 月内到岗。\\n            \\n            \\n            \\n\\n教育经历。\\n            \\n            \\n            \\n\\n内蒙古农业大学。\\n            \\n            \\n            \\n\\n2022.09 - 2025.07。\\n            \\n            \\n            \\n\\n软件工程\\n本科\\n|。\\n            \\n            \\n            \\n\\n荣誉/奖项：。\\n            \\n            \\n            \\n\\n• 自治区励志奖学金（2023-10）。\\n            \\n            \\n            \\n\\n• 多次获得校级一等优秀学生（2024-5，2024-11）。\\n            \\n            \\n            \\n\\n• 学生会优秀干部（2022-2024）。\\n            \\n            \\n            \\n\\n项目经历。\\n            \\n            \\n            \\n\\n2024.12 - 2025.06。\\n            \\n            \\n            \\n\\nAI-云寻。\\n            \\n            \\n            \\n\\n基于Neo4j和NLP实现的简历关系展示查询系统。\\n            \\n            \\n            \\n\\n• 系统架构设计。\\n            \\n            \\n            \\n\\na. 采用前后端分离架构，前端基于Vue 3、Element Plus及ECharts实现。\\n            \\n            \\n            \\n\\nb. 后端基于Spring Boot搭建RESTful API。\\n            \\n            \\n            \\n\\nc. 数据存储使用Neo4j图数据库。\\n            \\n            \\n            \\n\\nd. 负责整体架构设计，明确系统目标，确保前后端高效协同。\\n            \\n            \\n            \\n\\n• 知识图谱可视化开发。\\n            \\n            \\n            \\n\\na. 独立完成技术选型与模块划分。\\n            \\n            \\n            \\n\\nb. 设计数据库表结构（论文、作者、机构、国家节点及关系）。\\n            \\n            \\n            \\n\\nc. 通过Neo4j的Cypher语言实现复杂关系查询。\\n            \\n            \\n            \\n\\nd. 使用ECharts力导向图动态展示知识图谱。\\n            \\n            \\n            \\n\\ne. 基于Spring Boot封装数据接口，实现可视化效果。\\n            \\n            \\n            \\n\\nf. 通过normalizedCypher方法将Neo4j查询结果规范化为JSON格式，优化大规模数据渲染性能，实现分页加载，提升。\\n            \\n            \\n            \\n\\n用户体验。\\n            \\n            \\n            \\n\\n• 自然语言处理（NLP）模块。\\n            \\n            \\n            \\n\\na. 集成Apache OpenNLP，实现英文实体识别（作者、机构、时间等），准确率达到85%。\\n            \\n            \\n            \\n\\nb. 设计extractEntityAttributes方法，将非结构化文本解析为结构化数据。\\n            \\n            \\n            \\n\\nc. 自动生成Cypher语句并写入Neo4j，提高数据处理效率。\\n            \\n            \\n            \\n\\n• 数据管理功能开发。\\n            \\n            \\n            \\n\\na. 多格式数据导入：基于Apache POI实现Excel数据解析，支持论文、作者、机构批量导入，提高数据导入效率。\\n            \\n            \\n            \\n\\nb. 数据导出与备份：开发Excel导出工具，支持论文关联关系一键生成报表，实现数据导出与备份功能。\\n            \\n            \\n            \\n\\n• 智能问答模块。\\n            \\n            \\n            \\n\\na. 结合NLP与Neo4j图查询，实现语义化问答接口。\\n            \\n            \\n            \\n\\n在校经历。\\n            \\n            \\n            \\n\\n计算机与信息工程学院创新创业协会。\\n            \\n            \\n            \\n\\n2023.10 - 2025.10。\\n            \\n            \\n            \\n\\n社团负责人。\\n            \\n            \\n            \\n\\n1. 参加机器人舞蹈大赛，负责舞台设备调配。\\n            \\n            \\n            \\n\\n2. 组织新成员培训工作。\\n            \\n            \\n            \\n\\n计算机与信息工程学院学生团委学生会。\\n            \\n            \\n            \\n\\n2023.10 - 2024.10。\\n            \\n            \\n            \\n\\n办公室部门 - 部长。\\n            \\n            \\n            \\n\\n1. 担任学院办公室部门部长 ， 负责学院学生的综测加减分统计 ， 社会实践评分。\\n            \\n            \\n            \\n\\n2. 配合学院团委 ， 完成各项任务。\\n            \\n            \\n            \\n\\n实习经历。\\n            \\n            \\n            \\n\\n北京以塔科技有限公司。\\n            \\n            \\n            \\n\\n2024.02 - 2024.10。\\n            \\n            \\n            \\n\\n大模型开发实习生。\\n            \\n            \\n            \\n\\n• 智能简历解析系统开发。\\n            \\n            \\n            \\n\\n• Context：应对企业多格式简历智能处理需求，设计可扩展的AI解析引擎。\\n            \\n            \\n            \\n\\n• Task：构建基于大模型的简历结构化处理与诊断系统。\\n            \\n            \\n            \\n\\n• Action：采用大模型Prompt工程针对项目接口进行开发（包含：简历诊断，pdf简历信息提取，图片简历信息提取，。\\n            \\n            \\n            \\n\\n简历优化）。\\n            \\n            \\n            \\n\\n• Result：完成大模型返回值提取规范化json功能，实现业务核心逻辑简历诊断及评分，实现业务核心逻辑简历优化，。\\n            \\n            \\n            \\n\\n对大模型Prompt的调试更加得心应手，对与要求大模型返回值的规范化处理积累一定经验，熟悉git开发流程。\\n            \\n            \\n            \\n\\n• RAG增强问答系统开发。\\n            \\n            \\n            \\n\\n•  Context：构建基于pdf检索增强生成的问答系统。\\n            \\n            \\n            \\n\\n• Task：实现文档智能解析与语义检索核心模块。\\n            \\n            \\n            \\n\\n• Action：基于LangChain搭建处理流水线，设计混合检索策略：关键词匹配 + 语义检索（ChromaDB向量库），实。\\n            \\n            \\n            \\n\\n现上下文感知问答：通过Prompt工程优化大模型响应准确。\\n            \\n            \\n            \\n\\n• Result：对大模型Prompt的调试有初步理解，了解RAG框架并实现了对应的工具包。\\n            \\n            \\n            \\n\\n• Dian项目后端架构与部署。\\n            \\n            \\n            \\n\\n• Context：整合RAG以及PDF处理构建的基于预设知识库的问答系统。\\n            \\n            \\n            \\n\\n• Task：实现RAG工具打包，pdf高亮处理，以及整个项目在服务器上的前后端部署。\\n            \\n            \\n            \\n\\n• Action：采用Nginx反向代理架构，实现Flask API服务与Next.js前端服务的无缝集成，实现基础环境隔离：开发环境。\\n            \\n            \\n            \\n\\n↔ 生产环境，通过环境变量实现配置隔离，使用PyPDFLoader对PDF进行高亮处理，使用base64数据进行前后端文。\\n            \\n            \\n            \\n\\n件传输，使用PDF.js对前端pdf进行渲染和实现点击定位功能。\\n            \\n            \\n            \\n\\n• Result：完成后端与前端的ubutun服务器部署，完成MySQL数据库在ubutun服务器部署。\\n            \\n            \\n            \\n\\n• Note-taking系统开发。\\n            \\n            \\n            \\n\\n• Context：构建企业级开发训练平台，验证关键技术方案可行性。\\n            \\n            \\n            \\n\\n• Task：实现用户系统与数据关系网络核心模块。\\n            \\n            \\n            \\n\\n• Action：采用Flask+JWT实现认证体系，Session机制维护登录态，设计MySQL实体-关系存储模型，支持双向关联。\\n            \\n            \\n            \\n\\n查询，基于ECharts构建关系拓扑图，实现200+节点交互展示。\\n            \\n            \\n            \\n\\n• Result：完成从本地调试到生产部署的完整工程实践闭环。\\n            \\n            \\n            \\n\\n北京泽云安科技有限公司。\\n            \\n            \\n            \\n\\n2023.07 - 2023.07。\\n            \\n            \\n            \\n\\n智慧农业系统开发实战培训。\\n            \\n            \\n            \\n\\n基于SSM框架实现的智慧农业系统。\\n            \\n            \\n            \\n\\n• 技术学习与实践。\\n            \\n            \\n            \\n\\na. Spring Boot：学习自动化配置、RESTful API开发，掌握核心注解。。\\n            \\n            \\n            \\n\\nb. MyBatis：深入理解ORM框架，实现动态SQL编写、多表联查及事务管理。。\\n            \\n            \\n            \\n\\nc. SSM整合：完成Spring MVC、Spring、MyBatis框架整合，设计分层架构（Controller-Service-DAO）。。\\n            \\n            \\n            \\n\\n• 项目实战：智慧农业系统。\\n            \\n            \\n            \\n\\na. 核心功能：设备管理：实现设备增删改查（CRUD），支持通过接口控制设备开关状态（如水泵、温控设备）。。\\n            \\n            \\n            \\n\\nb. 个人职责：项目管理：担任项目经理，协调6人团队分工，制定开发计划，确保项目按时交付。。\\n            \\n            \\n            \\n\\n荣誉证书。\\n            \\n            \\n            \\n\\n普通话二级甲等、2023届“高教社”杯全国大学生数学建模竞赛内蒙古赛区赛区三等奖、第十五届蓝桥杯全国软件和信息技术专。\\n            \\n            \\n            \\n\\n业人才大赛个人赛省赛(软件赛)二等奖、2024ICPC中国(西部)大学生程序设计竞赛银奖、2024ICPC丝绸之路中国邀请赛银奖、。\\n            \\n            \\n            \\n\\n第二十五届仿生多人机器人舞蹈优秀奖、第十四届“挑战杯”内蒙古大学生创业计划竞赛铜奖。\\n            \\n            \\n            \\n\\n'"
      ]
     },
     "execution_count": 2,
     "metadata": {},
     "output_type": "execute_result"
    }
   ],
   "execution_count": 2
  },
  {
   "metadata": {
    "ExecuteTime": {
     "end_time": "2025-05-01T14:50:58.489735Z",
     "start_time": "2025-05-01T14:49:56.362837Z"
    }
   },
   "cell_type": "code",
   "source": [
    "# 获取标准解析简历json格式\n",
    "resume_format = read_txt('assets/txt/resume_format.txt')\n",
    "response_content = format_resume(resume_format, content)\n",
    "response_content"
   ],
   "id": "865e0c78b11d9d38",
   "outputs": [
    {
     "data": {
      "text/plain": [
       "'{\"job_intent_info\":[{\"job_intention\":\"后端开发\",\"expected_salary\":\"8k-20k\",\"preferred_city\":\"北京\",\"job_industry\":\"计算机软件\",\"job_type\":\"校招\"}],\"basic_info\":{\"name\":\"张文博\",\"age\":\"21\",\"sex\":\"男\",\"native_place\":\"内蒙古自治区\",\"education\":\"本科\",\"if_party_membership\":\"共青团员\",\"marital_status\":\"\",\"phone_number\":\"15602032933\",\"email\":\"Hotcocoa.Canary@outlook.com\",\"if_fresh_graduate\":\"是\",\"years_of_work_experience\":\"\",\"expected_salary\":\"\"},\"work_experience\":[{\"job_position\":\"大模型开发实习生\",\"work_period\":\"2024.02 - 2024.10\",\"company_name\":\"北京以塔科技有限公司\",\"work_content\":\"• 智能简历解析系统开发。\\\\n• Context：应对企业多格式简历智能处理需求，设计可扩展的AI解析引擎。\\\\n• Task：构建基于大模型的简历结构化处理与诊断系统。\\\\n• Action：采用大模型Prompt工程针对项目接口进行开发（包含：简历诊断，pdf简历信息提取，图片简历信息提取，\\\\n简历优化）。\\\\n• Result：完成大模型返回值提取规范化json功能，实现业务核心逻辑简历诊断及评分，实现业务核心逻辑简历优化，\\\\n对大模型Prompt的调试更加得心应手，对与要求大模型返回值的规范化处理积累一定经验，熟悉git开发流程。\\\\n• RAG增强问答系统开发。\\\\n•  Context：构建基于pdf检索增强生成的问答系统。\\\\n• Task：实现文档智能解析与语义检索核心模块。\\\\n• Action：基于LangChain搭建处理流水线，设计混合检索策略：关键词匹配 + 语义检索（ChromaDB向量库），实\\\\n现上下文感知问答：通过Prompt工程优化大模型响应准确。\\\\n• Result：对大模型Prompt的调试有初步理解，了解RAG框架并实现了对应的工具包。\\\\n• Dian项目后端架构与部署。\\\\n• Context：整合RAG以及PDF处理构建的基于预设知识库的问答系统。\\\\n• Task：实现RAG工具打包，pdf高亮处理，以及整个项目在服务器上的前后端部署。\\\\n• Action：采用Nginx反向代理架构，实现Flask API服务与Next.js前端服务的无缝集成，实现基础环境隔离：开发环境\\\\n↔ 生产环境，通过环境变量实现配置隔离，使用PyPDFLoader对PDF进行高亮处理，使用base64数据进行前后端文\\\\n件传输，使用PDF.js对前端pdf进行渲染和实现点击定位功能。\\\\n• Result：完成后端与前端的ubutun服务器部署，完成MySQL数据库在ubutun服务器部署。\\\\n• Note-taking系统开发。\\\\n• Context：构建企业级开发训练平台，验证关键技术方案可行性。\\\\n• Task：实现用户系统与数据关系网络核心模块。\\\\n• Action：采用Flask+JWT实现认证体系，Session机制维护登录态，设计MySQL实体-关系存储模型，支持双向关联\\\\n查询，基于ECharts构建关系拓扑图，实现200+节点交互展示。\\\\n• Result：完成从本地调试到生产部署的完整工程实践闭环。\"}],\"project_experience\":[{\"project_name\":\"AI-云寻\",\"project_position\":\"\",\"project_period\":\"2024.12 - 2025.06\",\"project_company_name\":\"\",\"project_description\":\"• 系统架构设计。\\\\n• a. 采用前后端分离架构，前端基于Vue 3、Element Plus及ECharts实现。\\\\n• b. 后端基于Spring Boot搭建RESTful API。\\\\n• c. 数据存储使用Neo4j图数据库。\\\\n• d. 负责整体架构设计，明确系统目标，确保前后端高效协同。\\\\n• 知识图谱可视化开发。\\\\n• a. 独立完成技术选型与模块划分。\\\\n• b. 设计数据库表结构（论文、作者、机构、国家节点及关系）。\\\\n• c. 通过Neo4j的Cypher语言实现复杂关系查询。\\\\n• d. 使用ECharts力导向图动态展示知识图谱。\\\\n• e. 基于Spring Boot封装数据接口，实现可视化效果。\\\\n• f. 通过normalizedCypher方法将Neo4j查询结果规范化为JSON格式，优化大规模数据渲染性能，实现分页加载，提升\\\\n用户体验。\\\\n• 自然语言处理（NLP）模块。\\\\n• a. 集成Apache OpenNLP，实现英文实体识别（作者、机构、时间等），准确率达到85%。\\\\n• b. 设计extractEntityAttributes方法，将非结构化文本解析为结构化数据。\\\\n• c. 自动生成Cypher语句并写入Neo4j，提高数据处理效率。\\\\n• 数据管理功能开发。\\\\n• a. 多格式数据导入：基于Apache POI实现Excel数据解析，支持论文、作者、机构批量导入，提高数据导入效率。\\\\n• b. 数据导出与备份：开发Excel导出工具，支持论文关联关系一键生成报表，实现数据导出与备份功能。\\\\n• 智能问答模块。\\\\n• a. 结合NLP与Neo4j图查询，实现语义化问答接口。\"}],\"education_experience\":[{\"institution_name\":\"内蒙古农业大学\",\"study_period\":\"2022.09 - 2025.07\",\"academic_ranking\":\"\",\"major\":\"软件工程\",\"degree\":\"本科\",\"campus_experience\":[{\"campus_activity\":\"计算机与信息工程学院创新创业协会\",\"campus_position\":\"社团负责人\",\"campus_description\":\"1. 参加机器人舞蹈大赛，负责舞台设备调配。\\\\n2. 组织新成员培训工作。\"},{\"campus_activity\":\"计算机与信息工程学院学生团委学生会\",\"campus_position\":\"办公室部门 - 部长\",\"campus_description\":\"1. 担任学院办公室部门部长 ， 负责学院学生的综测加减分统计 ， 社会实践评分。\\\\n2. 配合学院团委 ， 完成各项任务。\"}],\"description\":\"\"}],\"certificates\":{\"competition_awards\":[{\"item\":\"普通话二级甲等\",\"description\":\"\"},{\"item\":\"2023届“高教社”杯全国大学生数学建模竞赛内蒙古赛区赛区三等奖\",\"description\":\"\"},{\"item\":\"第十五届蓝桥杯全国软件和信息技术专业人才大赛个人赛省赛(软件赛)二等奖\",\"description\":\"\"},{\"item\":\"2024ICPC中国(西部)大学生程序设计竞赛银奖\",\"description\":\"\"},{\"item\":\"2024ICPC丝绸之路中国邀请赛银奖\",\"description\":\"\"},{\"item\":\"第二十五届仿生多人机器人舞蹈优秀奖\",\"description\":\"\"},{\"item\":\"第十四届“挑战杯”内蒙古大学生创业计划竞赛铜奖\",\"description\":\"\"}],\"patent_certificates\":[],\"training_certificates\":[],\"charity_certificates\":[],\"skills_certificates\":[],\"qualification_certificates\":[]},\"technical_skills\":[{\"skill_name\":\"Spring Boot\",\"skill_level\":\"\",\"skill_description\":\"学习自动化配置、RESTful API开发，掌握核心注解。\"},{\"skill_name\":\"MyBatis\",\"skill_level\":\"\",\"skill_description\":\"深入理解ORM框架，实现动态SQL编写、多表联查及事务管理。\"},{\"skill_name\":\"SSM整合\",\"skill_level\":\"\",\"skill_description\":\"完成Spring MVC、Spring、MyBatis框架整合，设计分层架构（Controller-Service-DAO）。\"}],\"portfolio\":[]}'"
      ]
     },
     "execution_count": 3,
     "metadata": {},
     "output_type": "execute_result"
    }
   ],
   "execution_count": 3
  },
  {
   "metadata": {},
   "cell_type": "markdown",
   "source": "### 3. 根据规范化简历json，生成当前简历各个模块的评分，优化后的版本以及优化建议，提供多轮对话，可以按照用户的想法继续优化",
   "id": "df71f2f3d1dc4aa7"
  },
  {
   "metadata": {},
   "cell_type": "markdown",
   "source": "#### 3.1. 简历优化版本",
   "id": "947f830730d7bcd0"
  },
  {
   "metadata": {
    "ExecuteTime": {
     "end_time": "2025-05-01T14:50:58.517303Z",
     "start_time": "2025-05-01T14:50:58.511582Z"
    }
   },
   "cell_type": "code",
   "source": [
    "# 简历json数据\n",
    "resume_json = json.loads(response_content)\n",
    "resume_json"
   ],
   "id": "c414835025e70959",
   "outputs": [
    {
     "data": {
      "text/plain": [
       "{'job_intent_info': [{'job_intention': '后端开发',\n",
       "   'expected_salary': '8k-20k',\n",
       "   'preferred_city': '北京',\n",
       "   'job_industry': '计算机软件',\n",
       "   'job_type': '校招'}],\n",
       " 'basic_info': {'name': '张文博',\n",
       "  'age': '21',\n",
       "  'sex': '男',\n",
       "  'native_place': '内蒙古自治区',\n",
       "  'education': '本科',\n",
       "  'if_party_membership': '共青团员',\n",
       "  'marital_status': '',\n",
       "  'phone_number': '15602032933',\n",
       "  'email': 'Hotcocoa.Canary@outlook.com',\n",
       "  'if_fresh_graduate': '是',\n",
       "  'years_of_work_experience': '',\n",
       "  'expected_salary': ''},\n",
       " 'work_experience': [{'job_position': '大模型开发实习生',\n",
       "   'work_period': '2024.02 - 2024.10',\n",
       "   'company_name': '北京以塔科技有限公司',\n",
       "   'work_content': '• 智能简历解析系统开发。\\n• Context：应对企业多格式简历智能处理需求，设计可扩展的AI解析引擎。\\n• Task：构建基于大模型的简历结构化处理与诊断系统。\\n• Action：采用大模型Prompt工程针对项目接口进行开发（包含：简历诊断，pdf简历信息提取，图片简历信息提取，\\n简历优化）。\\n• Result：完成大模型返回值提取规范化json功能，实现业务核心逻辑简历诊断及评分，实现业务核心逻辑简历优化，\\n对大模型Prompt的调试更加得心应手，对与要求大模型返回值的规范化处理积累一定经验，熟悉git开发流程。\\n• RAG增强问答系统开发。\\n•  Context：构建基于pdf检索增强生成的问答系统。\\n• Task：实现文档智能解析与语义检索核心模块。\\n• Action：基于LangChain搭建处理流水线，设计混合检索策略：关键词匹配 + 语义检索（ChromaDB向量库），实\\n现上下文感知问答：通过Prompt工程优化大模型响应准确。\\n• Result：对大模型Prompt的调试有初步理解，了解RAG框架并实现了对应的工具包。\\n• Dian项目后端架构与部署。\\n• Context：整合RAG以及PDF处理构建的基于预设知识库的问答系统。\\n• Task：实现RAG工具打包，pdf高亮处理，以及整个项目在服务器上的前后端部署。\\n• Action：采用Nginx反向代理架构，实现Flask API服务与Next.js前端服务的无缝集成，实现基础环境隔离：开发环境\\n↔ 生产环境，通过环境变量实现配置隔离，使用PyPDFLoader对PDF进行高亮处理，使用base64数据进行前后端文\\n件传输，使用PDF.js对前端pdf进行渲染和实现点击定位功能。\\n• Result：完成后端与前端的ubutun服务器部署，完成MySQL数据库在ubutun服务器部署。\\n• Note-taking系统开发。\\n• Context：构建企业级开发训练平台，验证关键技术方案可行性。\\n• Task：实现用户系统与数据关系网络核心模块。\\n• Action：采用Flask+JWT实现认证体系，Session机制维护登录态，设计MySQL实体-关系存储模型，支持双向关联\\n查询，基于ECharts构建关系拓扑图，实现200+节点交互展示。\\n• Result：完成从本地调试到生产部署的完整工程实践闭环。'}],\n",
       " 'project_experience': [{'project_name': 'AI-云寻',\n",
       "   'project_position': '',\n",
       "   'project_period': '2024.12 - 2025.06',\n",
       "   'project_company_name': '',\n",
       "   'project_description': '• 系统架构设计。\\n• a. 采用前后端分离架构，前端基于Vue 3、Element Plus及ECharts实现。\\n• b. 后端基于Spring Boot搭建RESTful API。\\n• c. 数据存储使用Neo4j图数据库。\\n• d. 负责整体架构设计，明确系统目标，确保前后端高效协同。\\n• 知识图谱可视化开发。\\n• a. 独立完成技术选型与模块划分。\\n• b. 设计数据库表结构（论文、作者、机构、国家节点及关系）。\\n• c. 通过Neo4j的Cypher语言实现复杂关系查询。\\n• d. 使用ECharts力导向图动态展示知识图谱。\\n• e. 基于Spring Boot封装数据接口，实现可视化效果。\\n• f. 通过normalizedCypher方法将Neo4j查询结果规范化为JSON格式，优化大规模数据渲染性能，实现分页加载，提升\\n用户体验。\\n• 自然语言处理（NLP）模块。\\n• a. 集成Apache OpenNLP，实现英文实体识别（作者、机构、时间等），准确率达到85%。\\n• b. 设计extractEntityAttributes方法，将非结构化文本解析为结构化数据。\\n• c. 自动生成Cypher语句并写入Neo4j，提高数据处理效率。\\n• 数据管理功能开发。\\n• a. 多格式数据导入：基于Apache POI实现Excel数据解析，支持论文、作者、机构批量导入，提高数据导入效率。\\n• b. 数据导出与备份：开发Excel导出工具，支持论文关联关系一键生成报表，实现数据导出与备份功能。\\n• 智能问答模块。\\n• a. 结合NLP与Neo4j图查询，实现语义化问答接口。'}],\n",
       " 'education_experience': [{'institution_name': '内蒙古农业大学',\n",
       "   'study_period': '2022.09 - 2025.07',\n",
       "   'academic_ranking': '',\n",
       "   'major': '软件工程',\n",
       "   'degree': '本科',\n",
       "   'campus_experience': [{'campus_activity': '计算机与信息工程学院创新创业协会',\n",
       "     'campus_position': '社团负责人',\n",
       "     'campus_description': '1. 参加机器人舞蹈大赛，负责舞台设备调配。\\n2. 组织新成员培训工作。'},\n",
       "    {'campus_activity': '计算机与信息工程学院学生团委学生会',\n",
       "     'campus_position': '办公室部门 - 部长',\n",
       "     'campus_description': '1. 担任学院办公室部门部长 ， 负责学院学生的综测加减分统计 ， 社会实践评分。\\n2. 配合学院团委 ， 完成各项任务。'}],\n",
       "   'description': ''}],\n",
       " 'certificates': {'competition_awards': [{'item': '普通话二级甲等',\n",
       "    'description': ''},\n",
       "   {'item': '2023届“高教社”杯全国大学生数学建模竞赛内蒙古赛区赛区三等奖', 'description': ''},\n",
       "   {'item': '第十五届蓝桥杯全国软件和信息技术专业人才大赛个人赛省赛(软件赛)二等奖', 'description': ''},\n",
       "   {'item': '2024ICPC中国(西部)大学生程序设计竞赛银奖', 'description': ''},\n",
       "   {'item': '2024ICPC丝绸之路中国邀请赛银奖', 'description': ''},\n",
       "   {'item': '第二十五届仿生多人机器人舞蹈优秀奖', 'description': ''},\n",
       "   {'item': '第十四届“挑战杯”内蒙古大学生创业计划竞赛铜奖', 'description': ''}],\n",
       "  'patent_certificates': [],\n",
       "  'training_certificates': [],\n",
       "  'charity_certificates': [],\n",
       "  'skills_certificates': [],\n",
       "  'qualification_certificates': []},\n",
       " 'technical_skills': [{'skill_name': 'Spring Boot',\n",
       "   'skill_level': '',\n",
       "   'skill_description': '学习自动化配置、RESTful API开发，掌握核心注解。'},\n",
       "  {'skill_name': 'MyBatis',\n",
       "   'skill_level': '',\n",
       "   'skill_description': '深入理解ORM框架，实现动态SQL编写、多表联查及事务管理。'},\n",
       "  {'skill_name': 'SSM整合',\n",
       "   'skill_level': '',\n",
       "   'skill_description': '完成Spring MVC、Spring、MyBatis框架整合，设计分层架构（Controller-Service-DAO）。'}],\n",
       " 'portfolio': []}"
      ]
     },
     "execution_count": 4,
     "metadata": {},
     "output_type": "execute_result"
    }
   ],
   "execution_count": 4
  },
  {
   "metadata": {
    "ExecuteTime": {
     "end_time": "2025-05-01T14:51:35.926794Z",
     "start_time": "2025-05-01T14:50:58.709986Z"
    }
   },
   "cell_type": "code",
   "source": [
    "from util.llm import better_resume_by_module\n",
    "\n",
    "work_experience_content = resume_json[\"work_experience\"]\n",
    "education_experience_content = resume_json[\"education_experience\"]\n",
    "project_experience_content = resume_json[\"project_experience\"]\n",
    "\n",
    "work_experience_format = read_txt(\"assets/txt/greater_resume_module/work_experience.txt\")\n",
    "education_experience_format = read_txt(\"assets/txt/greater_resume_module/education_experience.txt\")\n",
    "project_experience_format = read_txt(\"assets/txt/greater_resume_module/project_experience.txt\")\n",
    "\n",
    "work = better_resume_by_module(work_experience_format, work_experience_content, \"工作经历\")\n",
    "education = better_resume_by_module(education_experience_format, education_experience_content, \"教育经历\")\n",
    "project = better_resume_by_module(project_experience_format, project_experience_content, \"项目经历\")\n",
    "\n",
    "project = json.loads(project)\n",
    "work = json.loads(work)\n",
    "education = json.loads(education)\n",
    "\n",
    "resume_json[\"project_experience\"] = project\n",
    "resume_json[\"work_experience\"] = work\n",
    "resume_json[\"education_experience\"] = education\n",
    "\n",
    "resume_json"
   ],
   "id": "b89628ad50e7d024",
   "outputs": [
    {
     "data": {
      "text/plain": [
       "{'job_intent_info': [{'job_intention': '后端开发',\n",
       "   'expected_salary': '8k-20k',\n",
       "   'preferred_city': '北京',\n",
       "   'job_industry': '计算机软件',\n",
       "   'job_type': '校招'}],\n",
       " 'basic_info': {'name': '张文博',\n",
       "  'age': '21',\n",
       "  'sex': '男',\n",
       "  'native_place': '内蒙古自治区',\n",
       "  'education': '本科',\n",
       "  'if_party_membership': '共青团员',\n",
       "  'marital_status': '',\n",
       "  'phone_number': '15602032933',\n",
       "  'email': 'Hotcocoa.Canary@outlook.com',\n",
       "  'if_fresh_graduate': '是',\n",
       "  'years_of_work_experience': '',\n",
       "  'expected_salary': ''},\n",
       " 'work_experience': [{'company': '北京以塔科技有限公司',\n",
       "   'position': '大模型开发实习生',\n",
       "   'location': '',\n",
       "   'duration': '2024.02 - 2024.10',\n",
       "   'responsibilities': [{'item': '智能简历解析系统开发',\n",
       "     'description': '应对企业多格式简历智能处理需求，设计可扩展的AI解析引擎。通过采用大模型Prompt工程针对项目接口进行开发，完成大模型返回值提取规范化json功能，实现业务核心逻辑简历诊断及评分，实现业务核心逻辑简历优化。'},\n",
       "    {'item': 'RAG增强问答系统开发',\n",
       "     'description': '构建基于pdf检索增强生成的问答系统，实现文档智能解析与语义检索核心模块。基于LangChain搭建处理流水线，设计混合检索策略：关键词匹配 + 语义检索（ChromaDB向量库），实现上下文感知问答：通过Prompt工程优化大模型响应准确。'},\n",
       "    {'item': 'Dian项目后端架构与部署',\n",
       "     'description': '整合RAG以及PDF处理构建的基于预设知识库的问答系统。采用Nginx反向代理架构，实现Flask API服务与Next.js前端服务的无缝集成，实现基础环境隔离：开发环境↔生产环境，通过环境变量实现配置隔离，使用PyPDFLoader对PDF进行高亮处理，使用base64数据进行前后端文件传输，使用PDF.js对前端pdf进行渲染和实现点击定位功能。'},\n",
       "    {'item': 'Note-taking系统开发',\n",
       "     'description': '构建企业级开发训练平台，验证关键技术方案可行性。实现用户系统与数据关系网络核心模块。采用Flask+JWT实现认证体系，Session机制维护登录态，设计MySQL实体-关系存储模型，支持双向关联查询，基于ECharts构建关系拓扑图，实现200+节点交互展示。'}]}],\n",
       " 'project_experience': [{'project_name': 'AI-云寻',\n",
       "   'position': '',\n",
       "   'location': '',\n",
       "   'duration': '2024.12 - 2025.06',\n",
       "   'responsibilities': [{'item': '系统架构设计',\n",
       "     'description': '采用前后端分离架构，前端基于Vue 3、Element Plus及ECharts实现。后端基于Spring Boot搭建RESTful API。数据存储使用Neo4j图数据库。负责整体架构设计，明确系统目标，确保前后端高效协同。'},\n",
       "    {'item': '知识图谱可视化开发',\n",
       "     'description': '独立完成技术选型与模块划分。设计数据库表结构（论文、作者、机构、国家节点及关系）。通过Neo4j的Cypher语言实现复杂关系查询。使用ECharts力导向图动态展示知识图谱。基于Spring Boot封装数据接口，实现可视化效果。通过normalizedCypher方法将Neo4j查询结果规范化为JSON格式，优化大规模数据渲染性能，实现分页加载，提升用户体验。'},\n",
       "    {'item': '自然语言处理（NLP）模块',\n",
       "     'description': '集成Apache OpenNLP，实现英文实体识别（作者、机构、时间等），准确率达到85%。设计extractEntityAttributes方法，将非结构化文本解析为结构化数据。自动生成Cypher语句并写入Neo4j，提高数据处理效率。'}]}],\n",
       " 'education_experience': [{'institution_name': '内蒙古农业大学',\n",
       "   'study_period': '2022.09 - 2025.07',\n",
       "   'academic_ranking': '',\n",
       "   'major': '软件工程',\n",
       "   'degree': '本科',\n",
       "   'campus_experience': [{'campus_activity': '计算机与信息工程学院创新创业协会',\n",
       "     'campus_position': '社团负责人',\n",
       "     'campus_description': '1. 参加机器人舞蹈大赛，负责舞台设备调配。\\n2. 组织新成员培训工作。'},\n",
       "    {'campus_activity': '计算机与信息工程学院学生团委学生会',\n",
       "     'campus_position': '办公室部门 - 部长',\n",
       "     'campus_description': '1. 担任学院办公室部门部长 ， 负责学院学生的综测加减分统计 ， 社会实践评分。\\n2. 配合学院团委 ， 完成各项任务。'}],\n",
       "   'description': ''}],\n",
       " 'certificates': {'competition_awards': [{'item': '普通话二级甲等',\n",
       "    'description': ''},\n",
       "   {'item': '2023届“高教社”杯全国大学生数学建模竞赛内蒙古赛区赛区三等奖', 'description': ''},\n",
       "   {'item': '第十五届蓝桥杯全国软件和信息技术专业人才大赛个人赛省赛(软件赛)二等奖', 'description': ''},\n",
       "   {'item': '2024ICPC中国(西部)大学生程序设计竞赛银奖', 'description': ''},\n",
       "   {'item': '2024ICPC丝绸之路中国邀请赛银奖', 'description': ''},\n",
       "   {'item': '第二十五届仿生多人机器人舞蹈优秀奖', 'description': ''},\n",
       "   {'item': '第十四届“挑战杯”内蒙古大学生创业计划竞赛铜奖', 'description': ''}],\n",
       "  'patent_certificates': [],\n",
       "  'training_certificates': [],\n",
       "  'charity_certificates': [],\n",
       "  'skills_certificates': [],\n",
       "  'qualification_certificates': []},\n",
       " 'technical_skills': [{'skill_name': 'Spring Boot',\n",
       "   'skill_level': '',\n",
       "   'skill_description': '学习自动化配置、RESTful API开发，掌握核心注解。'},\n",
       "  {'skill_name': 'MyBatis',\n",
       "   'skill_level': '',\n",
       "   'skill_description': '深入理解ORM框架，实现动态SQL编写、多表联查及事务管理。'},\n",
       "  {'skill_name': 'SSM整合',\n",
       "   'skill_level': '',\n",
       "   'skill_description': '完成Spring MVC、Spring、MyBatis框架整合，设计分层架构（Controller-Service-DAO）。'}],\n",
       " 'portfolio': []}"
      ]
     },
     "execution_count": 5,
     "metadata": {},
     "output_type": "execute_result"
    }
   ],
   "execution_count": 5
  },
  {
   "metadata": {},
   "cell_type": "markdown",
   "source": "#### 3.2. 简历优化对话",
   "id": "30f75958ee2ecef1"
  },
  {
   "metadata": {
    "ExecuteTime": {
     "end_time": "2025-05-01T14:51:35.985303Z",
     "start_time": "2025-05-01T14:51:35.979756Z"
    }
   },
   "cell_type": "code",
   "source": [
    "# 获取原始简历\n",
    "resume_json_old = json.loads(response_content)\n",
    "resume_json_old"
   ],
   "id": "3335634623cb723b",
   "outputs": [
    {
     "data": {
      "text/plain": [
       "{'job_intent_info': [{'job_intention': '后端开发',\n",
       "   'expected_salary': '8k-20k',\n",
       "   'preferred_city': '北京',\n",
       "   'job_industry': '计算机软件',\n",
       "   'job_type': '校招'}],\n",
       " 'basic_info': {'name': '张文博',\n",
       "  'age': '21',\n",
       "  'sex': '男',\n",
       "  'native_place': '内蒙古自治区',\n",
       "  'education': '本科',\n",
       "  'if_party_membership': '共青团员',\n",
       "  'marital_status': '',\n",
       "  'phone_number': '15602032933',\n",
       "  'email': 'Hotcocoa.Canary@outlook.com',\n",
       "  'if_fresh_graduate': '是',\n",
       "  'years_of_work_experience': '',\n",
       "  'expected_salary': ''},\n",
       " 'work_experience': [{'job_position': '大模型开发实习生',\n",
       "   'work_period': '2024.02 - 2024.10',\n",
       "   'company_name': '北京以塔科技有限公司',\n",
       "   'work_content': '• 智能简历解析系统开发。\\n• Context：应对企业多格式简历智能处理需求，设计可扩展的AI解析引擎。\\n• Task：构建基于大模型的简历结构化处理与诊断系统。\\n• Action：采用大模型Prompt工程针对项目接口进行开发（包含：简历诊断，pdf简历信息提取，图片简历信息提取，\\n简历优化）。\\n• Result：完成大模型返回值提取规范化json功能，实现业务核心逻辑简历诊断及评分，实现业务核心逻辑简历优化，\\n对大模型Prompt的调试更加得心应手，对与要求大模型返回值的规范化处理积累一定经验，熟悉git开发流程。\\n• RAG增强问答系统开发。\\n•  Context：构建基于pdf检索增强生成的问答系统。\\n• Task：实现文档智能解析与语义检索核心模块。\\n• Action：基于LangChain搭建处理流水线，设计混合检索策略：关键词匹配 + 语义检索（ChromaDB向量库），实\\n现上下文感知问答：通过Prompt工程优化大模型响应准确。\\n• Result：对大模型Prompt的调试有初步理解，了解RAG框架并实现了对应的工具包。\\n• Dian项目后端架构与部署。\\n• Context：整合RAG以及PDF处理构建的基于预设知识库的问答系统。\\n• Task：实现RAG工具打包，pdf高亮处理，以及整个项目在服务器上的前后端部署。\\n• Action：采用Nginx反向代理架构，实现Flask API服务与Next.js前端服务的无缝集成，实现基础环境隔离：开发环境\\n↔ 生产环境，通过环境变量实现配置隔离，使用PyPDFLoader对PDF进行高亮处理，使用base64数据进行前后端文\\n件传输，使用PDF.js对前端pdf进行渲染和实现点击定位功能。\\n• Result：完成后端与前端的ubutun服务器部署，完成MySQL数据库在ubutun服务器部署。\\n• Note-taking系统开发。\\n• Context：构建企业级开发训练平台，验证关键技术方案可行性。\\n• Task：实现用户系统与数据关系网络核心模块。\\n• Action：采用Flask+JWT实现认证体系，Session机制维护登录态，设计MySQL实体-关系存储模型，支持双向关联\\n查询，基于ECharts构建关系拓扑图，实现200+节点交互展示。\\n• Result：完成从本地调试到生产部署的完整工程实践闭环。'}],\n",
       " 'project_experience': [{'project_name': 'AI-云寻',\n",
       "   'project_position': '',\n",
       "   'project_period': '2024.12 - 2025.06',\n",
       "   'project_company_name': '',\n",
       "   'project_description': '• 系统架构设计。\\n• a. 采用前后端分离架构，前端基于Vue 3、Element Plus及ECharts实现。\\n• b. 后端基于Spring Boot搭建RESTful API。\\n• c. 数据存储使用Neo4j图数据库。\\n• d. 负责整体架构设计，明确系统目标，确保前后端高效协同。\\n• 知识图谱可视化开发。\\n• a. 独立完成技术选型与模块划分。\\n• b. 设计数据库表结构（论文、作者、机构、国家节点及关系）。\\n• c. 通过Neo4j的Cypher语言实现复杂关系查询。\\n• d. 使用ECharts力导向图动态展示知识图谱。\\n• e. 基于Spring Boot封装数据接口，实现可视化效果。\\n• f. 通过normalizedCypher方法将Neo4j查询结果规范化为JSON格式，优化大规模数据渲染性能，实现分页加载，提升\\n用户体验。\\n• 自然语言处理（NLP）模块。\\n• a. 集成Apache OpenNLP，实现英文实体识别（作者、机构、时间等），准确率达到85%。\\n• b. 设计extractEntityAttributes方法，将非结构化文本解析为结构化数据。\\n• c. 自动生成Cypher语句并写入Neo4j，提高数据处理效率。\\n• 数据管理功能开发。\\n• a. 多格式数据导入：基于Apache POI实现Excel数据解析，支持论文、作者、机构批量导入，提高数据导入效率。\\n• b. 数据导出与备份：开发Excel导出工具，支持论文关联关系一键生成报表，实现数据导出与备份功能。\\n• 智能问答模块。\\n• a. 结合NLP与Neo4j图查询，实现语义化问答接口。'}],\n",
       " 'education_experience': [{'institution_name': '内蒙古农业大学',\n",
       "   'study_period': '2022.09 - 2025.07',\n",
       "   'academic_ranking': '',\n",
       "   'major': '软件工程',\n",
       "   'degree': '本科',\n",
       "   'campus_experience': [{'campus_activity': '计算机与信息工程学院创新创业协会',\n",
       "     'campus_position': '社团负责人',\n",
       "     'campus_description': '1. 参加机器人舞蹈大赛，负责舞台设备调配。\\n2. 组织新成员培训工作。'},\n",
       "    {'campus_activity': '计算机与信息工程学院学生团委学生会',\n",
       "     'campus_position': '办公室部门 - 部长',\n",
       "     'campus_description': '1. 担任学院办公室部门部长 ， 负责学院学生的综测加减分统计 ， 社会实践评分。\\n2. 配合学院团委 ， 完成各项任务。'}],\n",
       "   'description': ''}],\n",
       " 'certificates': {'competition_awards': [{'item': '普通话二级甲等',\n",
       "    'description': ''},\n",
       "   {'item': '2023届“高教社”杯全国大学生数学建模竞赛内蒙古赛区赛区三等奖', 'description': ''},\n",
       "   {'item': '第十五届蓝桥杯全国软件和信息技术专业人才大赛个人赛省赛(软件赛)二等奖', 'description': ''},\n",
       "   {'item': '2024ICPC中国(西部)大学生程序设计竞赛银奖', 'description': ''},\n",
       "   {'item': '2024ICPC丝绸之路中国邀请赛银奖', 'description': ''},\n",
       "   {'item': '第二十五届仿生多人机器人舞蹈优秀奖', 'description': ''},\n",
       "   {'item': '第十四届“挑战杯”内蒙古大学生创业计划竞赛铜奖', 'description': ''}],\n",
       "  'patent_certificates': [],\n",
       "  'training_certificates': [],\n",
       "  'charity_certificates': [],\n",
       "  'skills_certificates': [],\n",
       "  'qualification_certificates': []},\n",
       " 'technical_skills': [{'skill_name': 'Spring Boot',\n",
       "   'skill_level': '',\n",
       "   'skill_description': '学习自动化配置、RESTful API开发，掌握核心注解。'},\n",
       "  {'skill_name': 'MyBatis',\n",
       "   'skill_level': '',\n",
       "   'skill_description': '深入理解ORM框架，实现动态SQL编写、多表联查及事务管理。'},\n",
       "  {'skill_name': 'SSM整合',\n",
       "   'skill_level': '',\n",
       "   'skill_description': '完成Spring MVC、Spring、MyBatis框架整合，设计分层架构（Controller-Service-DAO）。'}],\n",
       " 'portfolio': []}"
      ]
     },
     "execution_count": 6,
     "metadata": {},
     "output_type": "execute_result"
    }
   ],
   "execution_count": 6
  },
  {
   "metadata": {
    "ExecuteTime": {
     "end_time": "2025-05-01T14:51:36.095837Z",
     "start_time": "2025-05-01T14:51:36.089667Z"
    }
   },
   "cell_type": "code",
   "source": [
    "# 获取优化后的简历\n",
    "resume_json_new = resume_json\n",
    "resume_json_new"
   ],
   "id": "24ded47fa2e19448",
   "outputs": [
    {
     "data": {
      "text/plain": [
       "{'job_intent_info': [{'job_intention': '后端开发',\n",
       "   'expected_salary': '8k-20k',\n",
       "   'preferred_city': '北京',\n",
       "   'job_industry': '计算机软件',\n",
       "   'job_type': '校招'}],\n",
       " 'basic_info': {'name': '张文博',\n",
       "  'age': '21',\n",
       "  'sex': '男',\n",
       "  'native_place': '内蒙古自治区',\n",
       "  'education': '本科',\n",
       "  'if_party_membership': '共青团员',\n",
       "  'marital_status': '',\n",
       "  'phone_number': '15602032933',\n",
       "  'email': 'Hotcocoa.Canary@outlook.com',\n",
       "  'if_fresh_graduate': '是',\n",
       "  'years_of_work_experience': '',\n",
       "  'expected_salary': ''},\n",
       " 'work_experience': [{'company': '北京以塔科技有限公司',\n",
       "   'position': '大模型开发实习生',\n",
       "   'location': '',\n",
       "   'duration': '2024.02 - 2024.10',\n",
       "   'responsibilities': [{'item': '智能简历解析系统开发',\n",
       "     'description': '应对企业多格式简历智能处理需求，设计可扩展的AI解析引擎。通过采用大模型Prompt工程针对项目接口进行开发，完成大模型返回值提取规范化json功能，实现业务核心逻辑简历诊断及评分，实现业务核心逻辑简历优化。'},\n",
       "    {'item': 'RAG增强问答系统开发',\n",
       "     'description': '构建基于pdf检索增强生成的问答系统，实现文档智能解析与语义检索核心模块。基于LangChain搭建处理流水线，设计混合检索策略：关键词匹配 + 语义检索（ChromaDB向量库），实现上下文感知问答：通过Prompt工程优化大模型响应准确。'},\n",
       "    {'item': 'Dian项目后端架构与部署',\n",
       "     'description': '整合RAG以及PDF处理构建的基于预设知识库的问答系统。采用Nginx反向代理架构，实现Flask API服务与Next.js前端服务的无缝集成，实现基础环境隔离：开发环境↔生产环境，通过环境变量实现配置隔离，使用PyPDFLoader对PDF进行高亮处理，使用base64数据进行前后端文件传输，使用PDF.js对前端pdf进行渲染和实现点击定位功能。'},\n",
       "    {'item': 'Note-taking系统开发',\n",
       "     'description': '构建企业级开发训练平台，验证关键技术方案可行性。实现用户系统与数据关系网络核心模块。采用Flask+JWT实现认证体系，Session机制维护登录态，设计MySQL实体-关系存储模型，支持双向关联查询，基于ECharts构建关系拓扑图，实现200+节点交互展示。'}]}],\n",
       " 'project_experience': [{'project_name': 'AI-云寻',\n",
       "   'position': '',\n",
       "   'location': '',\n",
       "   'duration': '2024.12 - 2025.06',\n",
       "   'responsibilities': [{'item': '系统架构设计',\n",
       "     'description': '采用前后端分离架构，前端基于Vue 3、Element Plus及ECharts实现。后端基于Spring Boot搭建RESTful API。数据存储使用Neo4j图数据库。负责整体架构设计，明确系统目标，确保前后端高效协同。'},\n",
       "    {'item': '知识图谱可视化开发',\n",
       "     'description': '独立完成技术选型与模块划分。设计数据库表结构（论文、作者、机构、国家节点及关系）。通过Neo4j的Cypher语言实现复杂关系查询。使用ECharts力导向图动态展示知识图谱。基于Spring Boot封装数据接口，实现可视化效果。通过normalizedCypher方法将Neo4j查询结果规范化为JSON格式，优化大规模数据渲染性能，实现分页加载，提升用户体验。'},\n",
       "    {'item': '自然语言处理（NLP）模块',\n",
       "     'description': '集成Apache OpenNLP，实现英文实体识别（作者、机构、时间等），准确率达到85%。设计extractEntityAttributes方法，将非结构化文本解析为结构化数据。自动生成Cypher语句并写入Neo4j，提高数据处理效率。'}]}],\n",
       " 'education_experience': [{'institution_name': '内蒙古农业大学',\n",
       "   'study_period': '2022.09 - 2025.07',\n",
       "   'academic_ranking': '',\n",
       "   'major': '软件工程',\n",
       "   'degree': '本科',\n",
       "   'campus_experience': [{'campus_activity': '计算机与信息工程学院创新创业协会',\n",
       "     'campus_position': '社团负责人',\n",
       "     'campus_description': '1. 参加机器人舞蹈大赛，负责舞台设备调配。\\n2. 组织新成员培训工作。'},\n",
       "    {'campus_activity': '计算机与信息工程学院学生团委学生会',\n",
       "     'campus_position': '办公室部门 - 部长',\n",
       "     'campus_description': '1. 担任学院办公室部门部长 ， 负责学院学生的综测加减分统计 ， 社会实践评分。\\n2. 配合学院团委 ， 完成各项任务。'}],\n",
       "   'description': ''}],\n",
       " 'certificates': {'competition_awards': [{'item': '普通话二级甲等',\n",
       "    'description': ''},\n",
       "   {'item': '2023届“高教社”杯全国大学生数学建模竞赛内蒙古赛区赛区三等奖', 'description': ''},\n",
       "   {'item': '第十五届蓝桥杯全国软件和信息技术专业人才大赛个人赛省赛(软件赛)二等奖', 'description': ''},\n",
       "   {'item': '2024ICPC中国(西部)大学生程序设计竞赛银奖', 'description': ''},\n",
       "   {'item': '2024ICPC丝绸之路中国邀请赛银奖', 'description': ''},\n",
       "   {'item': '第二十五届仿生多人机器人舞蹈优秀奖', 'description': ''},\n",
       "   {'item': '第十四届“挑战杯”内蒙古大学生创业计划竞赛铜奖', 'description': ''}],\n",
       "  'patent_certificates': [],\n",
       "  'training_certificates': [],\n",
       "  'charity_certificates': [],\n",
       "  'skills_certificates': [],\n",
       "  'qualification_certificates': []},\n",
       " 'technical_skills': [{'skill_name': 'Spring Boot',\n",
       "   'skill_level': '',\n",
       "   'skill_description': '学习自动化配置、RESTful API开发，掌握核心注解。'},\n",
       "  {'skill_name': 'MyBatis',\n",
       "   'skill_level': '',\n",
       "   'skill_description': '深入理解ORM框架，实现动态SQL编写、多表联查及事务管理。'},\n",
       "  {'skill_name': 'SSM整合',\n",
       "   'skill_level': '',\n",
       "   'skill_description': '完成Spring MVC、Spring、MyBatis框架整合，设计分层架构（Controller-Service-DAO）。'}],\n",
       " 'portfolio': []}"
      ]
     },
     "execution_count": 7,
     "metadata": {},
     "output_type": "execute_result"
    }
   ],
   "execution_count": 7
  },
  {
   "metadata": {
    "ExecuteTime": {
     "end_time": "2025-05-01T14:51:36.217406Z",
     "start_time": "2025-05-01T14:51:36.214653Z"
    }
   },
   "cell_type": "code",
   "source": "# 介于jupyter的限制，这里采用的预设好的用户问题对话，我们也制作的终端对话的脚本，请参照show_main.py",
   "id": "491134254d2da51c",
   "outputs": [],
   "execution_count": 8
  },
  {
   "metadata": {},
   "cell_type": "markdown",
   "source": [
    "### 4. 根据规范化简历json，基于场景构建一场模拟面试，用语音播放题目，允许用户使用语音或文字回答问题，并在最终给出面试评分\n",
    "#### 4.1. 模拟面试"
   ],
   "id": "68e3153e4bd7dfd7"
  },
  {
   "metadata": {
    "ExecuteTime": {
     "end_time": "2025-05-01T14:51:36.315701Z",
     "start_time": "2025-05-01T14:51:36.310554Z"
    }
   },
   "cell_type": "code",
   "source": [
    "# 获取简历json\n",
    "resume_json"
   ],
   "id": "afb156eee6551197",
   "outputs": [
    {
     "data": {
      "text/plain": [
       "{'job_intent_info': [{'job_intention': '后端开发',\n",
       "   'expected_salary': '8k-20k',\n",
       "   'preferred_city': '北京',\n",
       "   'job_industry': '计算机软件',\n",
       "   'job_type': '校招'}],\n",
       " 'basic_info': {'name': '张文博',\n",
       "  'age': '21',\n",
       "  'sex': '男',\n",
       "  'native_place': '内蒙古自治区',\n",
       "  'education': '本科',\n",
       "  'if_party_membership': '共青团员',\n",
       "  'marital_status': '',\n",
       "  'phone_number': '15602032933',\n",
       "  'email': 'Hotcocoa.Canary@outlook.com',\n",
       "  'if_fresh_graduate': '是',\n",
       "  'years_of_work_experience': '',\n",
       "  'expected_salary': ''},\n",
       " 'work_experience': [{'company': '北京以塔科技有限公司',\n",
       "   'position': '大模型开发实习生',\n",
       "   'location': '',\n",
       "   'duration': '2024.02 - 2024.10',\n",
       "   'responsibilities': [{'item': '智能简历解析系统开发',\n",
       "     'description': '应对企业多格式简历智能处理需求，设计可扩展的AI解析引擎。通过采用大模型Prompt工程针对项目接口进行开发，完成大模型返回值提取规范化json功能，实现业务核心逻辑简历诊断及评分，实现业务核心逻辑简历优化。'},\n",
       "    {'item': 'RAG增强问答系统开发',\n",
       "     'description': '构建基于pdf检索增强生成的问答系统，实现文档智能解析与语义检索核心模块。基于LangChain搭建处理流水线，设计混合检索策略：关键词匹配 + 语义检索（ChromaDB向量库），实现上下文感知问答：通过Prompt工程优化大模型响应准确。'},\n",
       "    {'item': 'Dian项目后端架构与部署',\n",
       "     'description': '整合RAG以及PDF处理构建的基于预设知识库的问答系统。采用Nginx反向代理架构，实现Flask API服务与Next.js前端服务的无缝集成，实现基础环境隔离：开发环境↔生产环境，通过环境变量实现配置隔离，使用PyPDFLoader对PDF进行高亮处理，使用base64数据进行前后端文件传输，使用PDF.js对前端pdf进行渲染和实现点击定位功能。'},\n",
       "    {'item': 'Note-taking系统开发',\n",
       "     'description': '构建企业级开发训练平台，验证关键技术方案可行性。实现用户系统与数据关系网络核心模块。采用Flask+JWT实现认证体系，Session机制维护登录态，设计MySQL实体-关系存储模型，支持双向关联查询，基于ECharts构建关系拓扑图，实现200+节点交互展示。'}]}],\n",
       " 'project_experience': [{'project_name': 'AI-云寻',\n",
       "   'position': '',\n",
       "   'location': '',\n",
       "   'duration': '2024.12 - 2025.06',\n",
       "   'responsibilities': [{'item': '系统架构设计',\n",
       "     'description': '采用前后端分离架构，前端基于Vue 3、Element Plus及ECharts实现。后端基于Spring Boot搭建RESTful API。数据存储使用Neo4j图数据库。负责整体架构设计，明确系统目标，确保前后端高效协同。'},\n",
       "    {'item': '知识图谱可视化开发',\n",
       "     'description': '独立完成技术选型与模块划分。设计数据库表结构（论文、作者、机构、国家节点及关系）。通过Neo4j的Cypher语言实现复杂关系查询。使用ECharts力导向图动态展示知识图谱。基于Spring Boot封装数据接口，实现可视化效果。通过normalizedCypher方法将Neo4j查询结果规范化为JSON格式，优化大规模数据渲染性能，实现分页加载，提升用户体验。'},\n",
       "    {'item': '自然语言处理（NLP）模块',\n",
       "     'description': '集成Apache OpenNLP，实现英文实体识别（作者、机构、时间等），准确率达到85%。设计extractEntityAttributes方法，将非结构化文本解析为结构化数据。自动生成Cypher语句并写入Neo4j，提高数据处理效率。'}]}],\n",
       " 'education_experience': [{'institution_name': '内蒙古农业大学',\n",
       "   'study_period': '2022.09 - 2025.07',\n",
       "   'academic_ranking': '',\n",
       "   'major': '软件工程',\n",
       "   'degree': '本科',\n",
       "   'campus_experience': [{'campus_activity': '计算机与信息工程学院创新创业协会',\n",
       "     'campus_position': '社团负责人',\n",
       "     'campus_description': '1. 参加机器人舞蹈大赛，负责舞台设备调配。\\n2. 组织新成员培训工作。'},\n",
       "    {'campus_activity': '计算机与信息工程学院学生团委学生会',\n",
       "     'campus_position': '办公室部门 - 部长',\n",
       "     'campus_description': '1. 担任学院办公室部门部长 ， 负责学院学生的综测加减分统计 ， 社会实践评分。\\n2. 配合学院团委 ， 完成各项任务。'}],\n",
       "   'description': ''}],\n",
       " 'certificates': {'competition_awards': [{'item': '普通话二级甲等',\n",
       "    'description': ''},\n",
       "   {'item': '2023届“高教社”杯全国大学生数学建模竞赛内蒙古赛区赛区三等奖', 'description': ''},\n",
       "   {'item': '第十五届蓝桥杯全国软件和信息技术专业人才大赛个人赛省赛(软件赛)二等奖', 'description': ''},\n",
       "   {'item': '2024ICPC中国(西部)大学生程序设计竞赛银奖', 'description': ''},\n",
       "   {'item': '2024ICPC丝绸之路中国邀请赛银奖', 'description': ''},\n",
       "   {'item': '第二十五届仿生多人机器人舞蹈优秀奖', 'description': ''},\n",
       "   {'item': '第十四届“挑战杯”内蒙古大学生创业计划竞赛铜奖', 'description': ''}],\n",
       "  'patent_certificates': [],\n",
       "  'training_certificates': [],\n",
       "  'charity_certificates': [],\n",
       "  'skills_certificates': [],\n",
       "  'qualification_certificates': []},\n",
       " 'technical_skills': [{'skill_name': 'Spring Boot',\n",
       "   'skill_level': '',\n",
       "   'skill_description': '学习自动化配置、RESTful API开发，掌握核心注解。'},\n",
       "  {'skill_name': 'MyBatis',\n",
       "   'skill_level': '',\n",
       "   'skill_description': '深入理解ORM框架，实现动态SQL编写、多表联查及事务管理。'},\n",
       "  {'skill_name': 'SSM整合',\n",
       "   'skill_level': '',\n",
       "   'skill_description': '完成Spring MVC、Spring、MyBatis框架整合，设计分层架构（Controller-Service-DAO）。'}],\n",
       " 'portfolio': []}"
      ]
     },
     "execution_count": 9,
     "metadata": {},
     "output_type": "execute_result"
    }
   ],
   "execution_count": 9
  },
  {
   "metadata": {
    "ExecuteTime": {
     "end_time": "2025-05-01T14:51:42.935099Z",
     "start_time": "2025-05-01T14:51:36.398876Z"
    }
   },
   "cell_type": "code",
   "source": [
    "from util.llm import generate_interview_questions\n",
    "\n",
    "# 生成面试题列表\n",
    "interview_questions = generate_interview_questions(resume_json)\n",
    "questions_list = json.loads(interview_questions)[\"questions\"]\n",
    "questions_list"
   ],
   "id": "1544c55fcdf77a5e",
   "outputs": [
    {
     "data": {
      "text/plain": [
       "['请介绍一下你在北京以塔科技有限公司实习期间所负责的智能简历解析系统开发项目。',\n",
       " '在RAG增强问答系统开发中，你遇到了哪些挑战？',\n",
       " '在Dian项目后端架构与部署中，你是如何实现基础环境隔离的？',\n",
       " '请介绍一下你在Note-taking系统开发中的具体职责。',\n",
       " '在AI-云寻项目中，你是如何实现知识图谱可视化开发的？',\n",
       " '在自然语言处理（NLP）模块中，你是如何实现英文实体识别的？',\n",
       " '请介绍一下你在内蒙古农业大学的学习经历，以及你所参与的校园活动。',\n",
       " '你在技术技能方面有哪些特长？',\n",
       " '请介绍一下你在普通话二级甲等、全国大学生数学建模竞赛等竞赛中的表现。',\n",
       " '你未来的职业规划是什么？']"
      ]
     },
     "execution_count": 10,
     "metadata": {},
     "output_type": "execute_result"
    }
   ],
   "execution_count": 10
  },
  {
   "metadata": {
    "ExecuteTime": {
     "end_time": "2025-05-01T14:52:09.201663Z",
     "start_time": "2025-05-01T14:51:42.949941Z"
    }
   },
   "cell_type": "code",
   "source": [
    "from util.llm import generate_questions_audio\n",
    "\n",
    "# 生成面试题语音\n",
    "questions_audio_list = generate_questions_audio(questions_list)\n",
    "questions_audio_list"
   ],
   "id": "38e768023dc1951d",
   "outputs": [
    {
     "data": {
      "text/plain": [
       "['assets/audio\\\\short_audio_synthesis_jovi_yige_20250501225146.wav',\n",
       " 'assets/audio\\\\short_audio_synthesis_jovi_yige_20250501225148.wav',\n",
       " 'assets/audio\\\\short_audio_synthesis_jovi_yige_20250501225151.wav',\n",
       " 'assets/audio\\\\short_audio_synthesis_jovi_yige_20250501225153.wav',\n",
       " 'assets/audio\\\\short_audio_synthesis_jovi_yige_20250501225156.wav',\n",
       " 'assets/audio\\\\short_audio_synthesis_jovi_yige_20250501225200.wav',\n",
       " 'assets/audio\\\\short_audio_synthesis_jovi_yige_20250501225203.wav',\n",
       " 'assets/audio\\\\short_audio_synthesis_jovi_yige_20250501225204.wav',\n",
       " 'assets/audio\\\\short_audio_synthesis_jovi_yige_20250501225207.wav',\n",
       " 'assets/audio\\\\short_audio_synthesis_jovi_yige_20250501225209.wav']"
      ]
     },
     "execution_count": 11,
     "metadata": {},
     "output_type": "execute_result"
    }
   ],
   "execution_count": 11
  },
  {
   "metadata": {},
   "cell_type": "markdown",
   "source": "#### 4.2. 面试评分",
   "id": "9964da81493a16dd"
  },
  {
   "metadata": {
    "ExecuteTime": {
     "end_time": "2025-05-01T14:52:14.400227Z",
     "start_time": "2025-05-01T14:52:09.214727Z"
    }
   },
   "cell_type": "code",
   "source": [
    "from util.llm import audio2text\n",
    "\n",
    "# 处理用户答案，这里还是采用预设的问题和结果进行演示\n",
    "questions_list = ['请介绍一下你在北京以塔科技有限公司的工作经历，以及你在大模型开发实习生职位上的主要职责。',\n",
    "                  '在AI-云寻项目中，你负责了哪些具体的技术开发和系统架构设计？',\n",
    "                  '请谈谈你在内蒙古农业大学的学习经历，以及你在软件工程专业的学术成果。',\n",
    "                  '你在项目开发中使用了哪些编程语言和技术框架？',\n",
    "                  '请描述一下你在技术团队中的角色和职责，以及如何与团队成员协作完成项目。',\n",
    "                  '你在技术解决方案设计和实施过程中遇到过哪些挑战？如何解决的？',\n",
    "                  '请谈谈你在技术项目管理方面的经验和方法。',\n",
    "                  '你在技术团队中的沟通和协作能力如何？',\n",
    "                  '请描述一下你在技术学习和自我提升方面的计划和实践。',\n",
    "                  '你对未来技术发展趋势有何看法？对加入我们公司的期望和计划是什么？']\n",
    "user_answers = [\n",
    "    {\n",
    "        \"answer\": \"我在北京以塔科技有限公司担任大模型开发实习生期间，主要负责简历解析系统和RAG增强问答系统的研发。我的工作包括：基于大模型的Prompt工程开发，实现简历结构化处理、诊断和优化；使用LangChain构建问答系统处理流水线，结合关键词匹配与ChromaDB语义检索，实现上下文感知问答；熟悉大模型返回值的解析与JSON格式规范化，优化交互体验；参与项目的前后端部署工作，包括使用Nginx进行Flask和Next.js服务集成，以及在Ubuntu服务器上部署数据库与API服务。这段实习经历不仅锻炼了我对大模型应用的掌握能力，还加深了我对完整工程闭环的理解，包括从本地开发到线上部署的全过程。\",\n",
    "        \"type\": \"text\"\n",
    "    },\n",
    "    {\n",
    "        \"answer\": \"在AI-云寻项目中，我主要负责了系统架构设计和核心模块开发：系统架构：采用前后端分离架构，前端用 Vue 3 + Element Plus + ECharts，后端使用 Spring Boot 提供 RESTful API，数据库采用 Neo4j 图数据库。知识图谱可视化：设计节点（如论文、作者、机构）和关系结构，使用 ECharts 力导向图实现动态渲染，支持分页加载优化性能。NLP模块：集成 Apache OpenNLP，实现英文实体识别和结构化数据抽取，自动生成 Cypher 语句导入 Neo4j。数据导入导出：支持Excel批量导入/导出，提升数据处理效率。智能问答接口：结合 NLP 与图数据库，实现语义化的知识问答功能。这个项目强化了我对图数据库、NLP与可视化技术融合的理解和实战能力。\",\n",
    "        \"type\": \"text\"\n",
    "    },\n",
    "    {\n",
    "        \"answer\": \"assets/audio/面试问题3.m4a\",\n",
    "        \"type\": \"audio\"\n",
    "    },\n",
    "    {\n",
    "        \"answer\": \"我常用的编程语言包括：Java、Python、JavaScript。使用过的技术栈包括：后端：Spring Boot、Flask、MyBatis、JWT；前端：Vue 3、Element Plus、ECharts、PDF.js；数据库：MySQL、Neo4j、ChromaDB（向量库）；AI/NLP：LangChain、OpenNLP、大语言模型 Prompt 编程；部署与环境管理：Nginx、Linux(Ubuntu)、Git、环境变量配置。\",\n",
    "        \"type\": \"text\"\n",
    "    },\n",
    "    {\n",
    "        \"answer\": \"我曾在多个项目中担任核心开发者或项目经理角色：例如在“智慧农业系统”中担任项目经理，负责团队分工、进度安排和代码审核，协调6人团队协同开发；在“Note-taking系统”中，负责核心模块的设计与开发，并主导从开发到部署的全流程；采用多人协作工具如Git进行版本控制，配合Code Review流程，保持代码一致性；注重文档编写与沟通效率，确保团队对项目目标理解一致。\",\n",
    "        \"type\": \"text\"\n",
    "    },\n",
    "    {\n",
    "        \"answer\": \"在构建大模型简历诊断系统时，遇到以下挑战：大模型输出不稳定：返回结构不一致，导致后端解析失败。→ 解决方法：通过Prompt工程优化输出格式，并编写容错解析器，提升系统鲁棒性。PDF简历图片信息提取复杂：OCR准确率不高，信息丢失。→ 解决方法：引入图片识别模型与关键字段规则匹配结合，提升识别质量。向量检索系统响应慢：查询时延迟高→ 解决方法：对语义检索流程进行缓存策略优化，减少重复查询。\",\n",
    "        \"type\": \"text\"\n",
    "    },\n",
    "    {\n",
    "        \"answer\": \"我在“智慧农业系统”中担任项目经理，采用以下项目管理方式：使用甘特图制定开发计划与里程碑；每日召开短会复盘进展，快速发现问题；拆分任务模块，明确责任人；使用Git进行版本控制，保持开发节奏同步；项目尾声组织功能回归测试和Bug修复。通过有效管理，我带领团队按时高质量完成了项目交付。\",\n",
    "        \"type\": \"text\"\n",
    "    },\n",
    "    {\n",
    "        \"answer\": \"我擅长团队内外的技术沟通：善于将复杂技术方案用图解和比喻向非技术同学说明；前端、算法、产品岗位保持紧密联动，确保理解一致；常使用协作平台（如飞书、GitHub Issue）明确问题与进度。团队成员普遍反馈我沟通清晰、有条理，能在关键时刻推动问题解决。\",\n",
    "        \"type\": \"text\"\n",
    "    },\n",
    "    {\n",
    "        \"answer\": \"我保持每周定期学习，内容包括新技术文档、开源项目源码阅读；每季度完成一个小项目或参加技术竞赛检验成果；订阅AI/后端领域的技术博客、GitHub Star优秀项目；近期重点关注RAG系统、LangChain、LLM微调与Agent开发相关知识；计划后续深入参与开源社区，锻炼工程协作能力。\",\n",
    "        \"type\": \"text\"\n",
    "    },\n",
    "    {\n",
    "        \"answer\": \"我认为未来技术将围绕“大模型 + 垂直场景”的融合展开，特别是在RAG、Agent、MaaS（Model-as-a-Service）方向。以Prompt为接口的系统工程能力会变得非常重要。加入贵公司后，我期望能：深入参与大模型产品研发，提升Prompt工程与后端集成能力；在实际项目中参与高并发、高可用系统的构建；向经验丰富的工程师学习，快速成长为能独立负责模块设计与实现的工程人才。\",\n",
    "        \"type\": \"text\"\n",
    "    }\n",
    "]\n",
    "\n",
    "answers_list = []\n",
    "answers_result = []\n",
    "\n",
    "for i in range(len(user_answers)):\n",
    "    if user_answers[i][\"type\"] == \"text\":\n",
    "        answers_list.append(user_answers[i][\"answer\"])\n",
    "    else:\n",
    "        answers_list.append(audio2text(user_answers[i][\"answer\"]))\n",
    "\n",
    "for i in range(len(questions_list)):\n",
    "    answers_result.append({\n",
    "        \"question\": questions_list[i],\n",
    "        \"answer\": answers_list[i]\n",
    "    })\n",
    "\n",
    "answers_result"
   ],
   "id": "2a3c281f81d76b4b",
   "outputs": [
    {
     "name": "stdout",
     "output_type": "stream",
     "text": [
      "Uploaded slice 1/1\n",
      "Progress: 0%\n",
      "Progress: 0%\n",
      "Progress: 100%\n"
     ]
    },
    {
     "data": {
      "text/plain": [
       "[{'question': '请介绍一下你在北京以塔科技有限公司的工作经历，以及你在大模型开发实习生职位上的主要职责。',\n",
       "  'answer': '我在北京以塔科技有限公司担任大模型开发实习生期间，主要负责简历解析系统和RAG增强问答系统的研发。我的工作包括：基于大模型的Prompt工程开发，实现简历结构化处理、诊断和优化；使用LangChain构建问答系统处理流水线，结合关键词匹配与ChromaDB语义检索，实现上下文感知问答；熟悉大模型返回值的解析与JSON格式规范化，优化交互体验；参与项目的前后端部署工作，包括使用Nginx进行Flask和Next.js服务集成，以及在Ubuntu服务器上部署数据库与API服务。这段实习经历不仅锻炼了我对大模型应用的掌握能力，还加深了我对完整工程闭环的理解，包括从本地开发到线上部署的全过程。'},\n",
       " {'question': '在AI-云寻项目中，你负责了哪些具体的技术开发和系统架构设计？',\n",
       "  'answer': '在AI-云寻项目中，我主要负责了系统架构设计和核心模块开发：系统架构：采用前后端分离架构，前端用 Vue 3 + Element Plus + ECharts，后端使用 Spring Boot 提供 RESTful API，数据库采用 Neo4j 图数据库。知识图谱可视化：设计节点（如论文、作者、机构）和关系结构，使用 ECharts 力导向图实现动态渲染，支持分页加载优化性能。NLP模块：集成 Apache OpenNLP，实现英文实体识别和结构化数据抽取，自动生成 Cypher 语句导入 Neo4j。数据导入导出：支持Excel批量导入/导出，提升数据处理效率。智能问答接口：结合 NLP 与图数据库，实现语义化的知识问答功能。这个项目强化了我对图数据库、NLP与可视化技术融合的理解和实战能力。'},\n",
       " {'question': '请谈谈你在内蒙古农业大学的学习经历，以及你在软件工程专业的学术成果。',\n",
       "  'answer': '我在内蒙古农业大学主修软件工程系统学习了软件开发身份周期、数据结构与算法、数据库原理、外部开发等课程期间，我积极参与竞赛与项目实践荣获icpc中国西部银奖、丝绸之路邀请赛银奖、篮球杯、省赛二等奖、数学剑魔、内蒙古散益区三等奖。  多次获得校一等奖学金和励志奖学金。 此外，我还担任计算机学院学生会和创新创业协会的核心成员，提升了我的团队协作与项目管理能力。 '},\n",
       " {'question': '你在项目开发中使用了哪些编程语言和技术框架？',\n",
       "  'answer': '我常用的编程语言包括：Java、Python、JavaScript。使用过的技术栈包括：后端：Spring Boot、Flask、MyBatis、JWT；前端：Vue 3、Element Plus、ECharts、PDF.js；数据库：MySQL、Neo4j、ChromaDB（向量库）；AI/NLP：LangChain、OpenNLP、大语言模型 Prompt 编程；部署与环境管理：Nginx、Linux(Ubuntu)、Git、环境变量配置。'},\n",
       " {'question': '请描述一下你在技术团队中的角色和职责，以及如何与团队成员协作完成项目。',\n",
       "  'answer': '我曾在多个项目中担任核心开发者或项目经理角色：例如在“智慧农业系统”中担任项目经理，负责团队分工、进度安排和代码审核，协调6人团队协同开发；在“Note-taking系统”中，负责核心模块的设计与开发，并主导从开发到部署的全流程；采用多人协作工具如Git进行版本控制，配合Code Review流程，保持代码一致性；注重文档编写与沟通效率，确保团队对项目目标理解一致。'},\n",
       " {'question': '你在技术解决方案设计和实施过程中遇到过哪些挑战？如何解决的？',\n",
       "  'answer': '在构建大模型简历诊断系统时，遇到以下挑战：大模型输出不稳定：返回结构不一致，导致后端解析失败。→ 解决方法：通过Prompt工程优化输出格式，并编写容错解析器，提升系统鲁棒性。PDF简历图片信息提取复杂：OCR准确率不高，信息丢失。→ 解决方法：引入图片识别模型与关键字段规则匹配结合，提升识别质量。向量检索系统响应慢：查询时延迟高→ 解决方法：对语义检索流程进行缓存策略优化，减少重复查询。'},\n",
       " {'question': '请谈谈你在技术项目管理方面的经验和方法。',\n",
       "  'answer': '我在“智慧农业系统”中担任项目经理，采用以下项目管理方式：使用甘特图制定开发计划与里程碑；每日召开短会复盘进展，快速发现问题；拆分任务模块，明确责任人；使用Git进行版本控制，保持开发节奏同步；项目尾声组织功能回归测试和Bug修复。通过有效管理，我带领团队按时高质量完成了项目交付。'},\n",
       " {'question': '你在技术团队中的沟通和协作能力如何？',\n",
       "  'answer': '我擅长团队内外的技术沟通：善于将复杂技术方案用图解和比喻向非技术同学说明；前端、算法、产品岗位保持紧密联动，确保理解一致；常使用协作平台（如飞书、GitHub Issue）明确问题与进度。团队成员普遍反馈我沟通清晰、有条理，能在关键时刻推动问题解决。'},\n",
       " {'question': '请描述一下你在技术学习和自我提升方面的计划和实践。',\n",
       "  'answer': '我保持每周定期学习，内容包括新技术文档、开源项目源码阅读；每季度完成一个小项目或参加技术竞赛检验成果；订阅AI/后端领域的技术博客、GitHub Star优秀项目；近期重点关注RAG系统、LangChain、LLM微调与Agent开发相关知识；计划后续深入参与开源社区，锻炼工程协作能力。'},\n",
       " {'question': '你对未来技术发展趋势有何看法？对加入我们公司的期望和计划是什么？',\n",
       "  'answer': '我认为未来技术将围绕“大模型 + 垂直场景”的融合展开，特别是在RAG、Agent、MaaS（Model-as-a-Service）方向。以Prompt为接口的系统工程能力会变得非常重要。加入贵公司后，我期望能：深入参与大模型产品研发，提升Prompt工程与后端集成能力；在实际项目中参与高并发、高可用系统的构建；向经验丰富的工程师学习，快速成长为能独立负责模块设计与实现的工程人才。'}]"
      ]
     },
     "execution_count": 12,
     "metadata": {},
     "output_type": "execute_result"
    }
   ],
   "execution_count": 12
  },
  {
   "metadata": {
    "ExecuteTime": {
     "end_time": "2025-05-01T14:53:21.373602Z",
     "start_time": "2025-05-01T14:52:14.435091Z"
    }
   },
   "cell_type": "code",
   "source": [
    "# 面试结果\n",
    "from util.llm import interview_result\n",
    "\n",
    "interview_result_format = read_txt(\"assets/txt/interview_result_format.txt\")\n",
    "interview_result = interview_result(interview_result_format, resume_json, answers_result)\n",
    "interview_result"
   ],
   "id": "c7cdcfbfb0b9a03a",
   "outputs": [
    {
     "data": {
      "text/plain": [
       "'{\"candidate\": {\"name\": \"张文博\", \"position\": \"Java后端工程师\", \"interview_date\": \"2025-05-01\"}, \"result\": [{\"question\": \"请介绍一下你在北京以塔科技有限公司的工作经历，以及你在大模型开发实习生职位上的主要职责。\", \"answer\": \"我在北京以塔科技有限公司担任大模型开发实习生期间，主要负责简历解析系统和RAG增强问答系统的研发。我的工作包括：基于大模型的Prompt工程开发，实现简历结构化处理、诊断和优化；使用LangChain构建问答系统处理流水线，结合关键词匹配与ChromaDB语义检索，实现上下文感知问答；熟悉大模型返回值的解析与JSON格式规范化，优化交互体验；参与项目的前后端部署工作，包括使用Nginx进行Flask和Next.js服务集成，以及在Ubuntu服务器上部署数据库与API服务。这段实习经历不仅锻炼了我对大模型应用的掌握能力，还加深了我对完整工程闭环的理解，包括从本地开发到线上部署的全过程。\", \"score\": 9, \"comments\": \"展示了对大模型开发的专业知识和实际工作经验，表述清晰，展现了良好的技术能力。\"}, {\"question\": \"在AI-云寻项目中，你负责了哪些具体的技术开发和系统架构设计？\", \"answer\": \"在AI-云寻项目中，我主要负责了系统架构设计和核心模块开发：系统架构：采用前后端分离架构，前端用 Vue 3 + Element Plus + ECharts，后端使用 Spring Boot 提供 RESTful API，数据库采用 Neo4j 图数据库。知识图谱可视化：设计节点（如论文、作者、机构）和关系结构，使用 ECharts 力导向图实现动态渲染，支持分页加载优化性能。NLP模块：集成 Apache OpenNLP，实现英文实体识别和结构化数据抽取，自动生成 Cypher 语句导入 Neo4j。数据导入导出：支持Excel批量导入/导出，提升数据处理效率。智能问答接口：结合 NLP 与图数据库，实现语义化的知识问答功能。这个项目强化了我对图数据库、NLP与可视化技术融合的理解和实战能力。\", \"score\": 8, \"comments\": \"展现了对项目细节的深入理解，但部分技术点讲解略显笼统，可进一步深化细节。\"}, {\"question\": \"请谈谈你在内蒙古农业大学的学习经历，以及你在软件工程专业的学术成果。\", \"answer\": \"我在内蒙古农业大学主修软件工程系统学习了软件开发身份周期、数据结构与算法、数据库原理、外部开发等课程期间，我积极参与竞赛与项目实践荣获icpc中国西部银奖、丝绸之路邀请赛银奖、篮球杯、省赛二等奖、数学剑魔、内蒙古散益区三等奖。  多次获得校一等奖学金和励志奖学金。 此外，我还担任计算机学院学生会和创新创业协会的核心成员，提升了我的团队协作与项目管理能力。 \", \"score\": 7, \"comments\": \"详细描述了学习经历和成果，但表达稍显冗长，可以更简洁地突出重点。\"}, {\"question\": \"你在项目开发中使用了哪些编程语言和技术框架？\", \"answer\": \"我常用的编程语言包括：Java、Python、JavaScript。使用过的技术栈包括：后端：Spring Boot、Flask、MyBatis、JWT；前端：Vue 3、Element Plus、ECharts、PDF.js；数据库：MySQL、Neo4j、ChromaDB（向量库）；AI/NLP：LangChain、OpenNLP、大语言模型 Prompt 编程；部署与环境管理：Nginx、Linux(Ubuntu)、Git、环境变量配置。\", \"score\": 9, \"comments\": \"清晰列举了掌握的编程语言和技术框架，体现了丰富的技术栈。\"}, {\"question\": \"请谈谈你在技术团队中的角色和职责，以及如何与团队成员协作完成项目。\", \"answer\": \"我曾在多个项目中担任核心开发者或项目经理角色：例如在“智慧农业系统”中担任项目经理，负责团队分工、进度安排和代码审核，协调6人团队协同开发；在“Note-taking系统”中，负责核心模块的设计与开发，并主导从开发到部署的全流程；采用多人协作工具如Git进行版本控制，配合Code Review流程，保持代码一致性；注重文档编写与沟通效率，确保团队对项目目标理解一致。\", \"score\": 8, \"comments\": \"展示了在团队中的多面手能力，但具体案例描述不够详细，可增加细节。\"}, {\"question\": \"你在技术解决方案设计和实施过程中遇到过哪些挑战？如何解决的？\", \"answer\": \"在构建大模型简历诊断系统时，遇到以下挑战：大模型输出不稳定：返回结构不一致，导致后端解析失败。→ 解决方法：通过Prompt工程优化输出格式，并编写容错解析器，提升系统鲁棒性。PDF简历图片信息提取复杂：OCR准确率不高，信息丢失。→ 解决方法：引入图片识别模型与关键字段规则匹配结合，提升识别质量。向量检索系统响应慢：查询时延迟高→ 解决方法：对语义检索流程进行缓存策略优化，减少重复查询。\", \"score\": 9, \"comments\": \"具体描述了遇到的技术挑战和解决方案，展现了问题解决能力。\"}, {\"question\": \"请谈谈你在技术项目管理方面的经验和方法。\", \"answer\": \"我在“智慧农业系统”中担任项目经理，采用以下项目管理方式：使用甘特图制定开发计划与里程碑；每日召开短会复盘进展，快速发现问题；拆分任务模块，明确责任人；使用Git进行版本控制，保持开发节奏同步；项目尾声组织功能回归测试和Bug修复。通过有效管理，我带领团队按时高质量完成了项目交付。\", \"score\": 8, \"comments\": \"展示了有效的项目管理方法，但缺乏对具体项目成果的量化描述。\"}, {\"question\": \"你在技术团队中的沟通和协作能力如何？\", \"answer\": \"我擅长团队内外的技术沟通：善于将复杂技术方案用图解和比喻向非技术同学说明；前端、算法、产品岗位保持紧密联动，确保理解一致；常使用协作平台（如飞书、GitHub Issue）明确问题与进度。团队成员普遍反馈我沟通清晰、有条理，能在关键时刻推动问题解决。\", \"score\": 9, \"comments\": \"展示了良好的沟通协作能力，但缺乏具体实例支撑，建议增加具体案例。\"}, {\"question\": \"请谈谈你在技术学习和自我提升方面的计划和实践。\", \"answer\": \"我保持每周定期学习，内容包括新技术文档、开源项目源码阅读；每季度完成一个小项目或参加技术竞赛检验成果；订阅AI/后端领域的技术博客、GitHub Star优秀项目；近期重点关注RAG系统、LangChain、LLM微调与Agent开发相关知识；计划后续深入参与开源社区，锻炼工程协作能力。\", \"score\": 9, \"comments\": \"展示了持续学习和自我提升的积极态度，但缺乏具体成果展示。\"}, {\"question\": \"你对未来技术发展趋势有何看法？对加入我们公司的期望和计划是什么？\", \"answer\": \"我认为未来技术将围绕“大模型 + 垂直场景”的融合展开，特别是在RAG、Agent、MaaS（Model-as-a-Service）方向。以Prompt为接口的系统工程能力会变得非常重要。加入贵公司后，我期望能：深入参与大模型产品研发，提升Prompt工程与后端集成能力；在实际项目中参与高并发、高可用系统的构建；向经验丰富的工程师学习，快速成长为能独立负责模块设计与实现的工程人才。\", \"score\": 9, \"comments\": \"对未来技术趋势有清晰的认识，对加入公司的期望和计划明确具体。\"}], \"overall_evaluation\": {\"average_score\": 8.5, \"recommendation\": \"Accept\", \"comments\": \"该候选人技术能力强，具备丰富的项目经验和良好的团队协作能力。建议在面试中进一步考察其在大模型应用和系统架构方面的深入理解。综合评分较高，推荐录用。\"}}'"
      ]
     },
     "execution_count": 13,
     "metadata": {},
     "output_type": "execute_result"
    }
   ],
   "execution_count": 13
  }
 ],
 "metadata": {
  "kernelspec": {
   "display_name": "Python 3",
   "language": "python",
   "name": "python3"
  },
  "language_info": {
   "codemirror_mode": {
    "name": "ipython",
    "version": 2
   },
   "file_extension": ".py",
   "mimetype": "text/x-python",
   "name": "python",
   "nbconvert_exporter": "python",
   "pygments_lexer": "ipython2",
   "version": "2.7.6"
  }
 },
 "nbformat": 4,
 "nbformat_minor": 5
}
