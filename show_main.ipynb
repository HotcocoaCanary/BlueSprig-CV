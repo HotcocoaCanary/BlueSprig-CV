{
 "cells": [
  {
   "metadata": {},
   "cell_type": "markdown",
   "source": [
    "# BlueSprig-CV 蓝枝简历 — 简单demo演示\n",
    "## 1. 概述\n",
    "    本demo演示了本组使用蓝心大模型，通过构建prompt和message，实现了部分最终产品功能的python代码演示\n",
    "\n",
    "主要功能\n",
    "1. 解析word，pdf或者图片格式的简历，给出构建后的规范化简历json格式\n",
    "2. 根据规范化简历json，生成当前简历各个模块的评分，优化后的版本以及优化建议，提供多轮对话，可以按照用户的想法继续优化\n",
    "3. 根据规范化简历json，基于场景构建一场模拟面试，用语音播放题目，允许用户使用语音或文字回答问题，并在最终给出面试评分\n",
    "    1. 面试场景可以分为：技术面试、产品面试、HR面试、技术+产品面试、技术+HR面试等等，后续可能根据不同行业标准进行调整，可以通过RAG减弱大模型幻觉现象，保证面试题更贴近真实面试，（本功能点因为时间问题当前demo并未实现）\n"
   ],
   "id": "512b0e128f255603"
  },
  {
   "metadata": {},
   "cell_type": "markdown",
   "source": [
    "## 2. 主要功能演示\n",
    "### 1. 解析word，pdf或者图片格式的简历，给出构建后的规范化简历json格式"
   ],
   "id": "84b05f613fb571f8"
  },
  {
   "metadata": {},
   "cell_type": "code",
   "source": [
    "import json\n",
    "\n",
    "# 工具方法\n",
    "from util.file_loader import load_file\n",
    "from util.llm import format_resume\n",
    "\n",
    "\n",
    "# 定义一个函数，用于读取txt文件\n",
    "def read_txt(file_path):\n",
    "    # 打开文件，以只读模式，编码格式为utf-8\n",
    "    with open(file_path, 'r', encoding='utf-8') as file:\n",
    "        # 读取文件内容，并去除首尾空格\n",
    "        return file.read().strip()"
   ],
   "id": "b34692beeab2f22",
   "outputs": [],
   "execution_count": null
  },
  {
   "cell_type": "code",
   "id": "e58af40c5c13509b",
   "metadata": {},
   "source": [
    "# 读取简历文件\n",
    "resume_path = 'assets/pdf/1.pdf'\n",
    "content = load_file(resume_path)\n",
    "content"
   ],
   "outputs": [],
   "execution_count": null
  },
  {
   "metadata": {},
   "cell_type": "code",
   "source": [
    "# 获取标准解析简历json格式\n",
    "resume_format = read_txt('assets/txt/resume_format.txt')\n",
    "response_content = format_resume(resume_format, content)\n",
    "response_content"
   ],
   "id": "865e0c78b11d9d38",
   "outputs": [],
   "execution_count": null
  },
  {
   "metadata": {},
   "cell_type": "markdown",
   "source": "### 3. 根据规范化简历json，生成当前简历各个模块的评分，优化后的版本以及优化建议，提供多轮对话，可以按照用户的想法继续优化",
   "id": "df71f2f3d1dc4aa7"
  },
  {
   "metadata": {},
   "cell_type": "markdown",
   "source": "#### 3.1. 简历优化版本",
   "id": "947f830730d7bcd0"
  },
  {
   "metadata": {},
   "cell_type": "code",
   "source": [
    "# 简历json数据\n",
    "resume_json = json.loads(response_content)\n",
    "resume_json"
   ],
   "id": "c414835025e70959",
   "outputs": [],
   "execution_count": null
  },
  {
   "metadata": {},
   "cell_type": "code",
   "source": [
    "from util.llm import better_resume_by_module\n",
    "\n",
    "\n",
    "work_experience_content = resume_json[\"work_experience\"]\n",
    "education_experience_content = resume_json[\"education_experience\"]\n",
    "project_experience_content = resume_json[\"project_experience\"]\n",
    "\n",
    "work_experience_format = read_txt(\"assets/txt/greater_resume_module/work_experience.txt\")\n",
    "education_experience_format = read_txt(\"assets/txt/greater_resume_module/education_experience.txt\")\n",
    "project_experience_format = read_txt(\"assets/txt/greater_resume_module/project_experience.txt\")\n",
    "\n",
    "work = better_resume_by_module(work_experience_format, work_experience_content, \"工作经历\")\n",
    "education = better_resume_by_module(education_experience_format, education_experience_content, \"教育经历\")\n",
    "project = better_resume_by_module(project_experience_format, project_experience_content, \"项目经历\")\n",
    "\n",
    "project = json.loads(project)\n",
    "work = json.loads(work)\n",
    "education = json.loads(education)\n",
    "\n",
    "resume_json[\"project_experience\"] = project\n",
    "resume_json[\"work_experience\"] = work\n",
    "resume_json[\"education_experience\"] = education\n",
    "\n",
    "resume_json"
   ],
   "id": "b89628ad50e7d024",
   "outputs": [],
   "execution_count": null
  },
  {
   "metadata": {},
   "cell_type": "markdown",
   "source": "#### 3.2. 简历优化对话",
   "id": "30f75958ee2ecef1"
  },
  {
   "metadata": {},
   "cell_type": "code",
   "source": [
    "# 获取原始简历\n",
    "resume_json_old = json.loads(response_content)\n",
    "resume_json_old"
   ],
   "id": "3335634623cb723b",
   "outputs": [],
   "execution_count": null
  },
  {
   "metadata": {},
   "cell_type": "code",
   "source": [
    "# 获取优化后的简历\n",
    "resume_json_new = resume_json\n",
    "resume_json_new"
   ],
   "id": "24ded47fa2e19448",
   "outputs": [],
   "execution_count": null
  },
  {
   "metadata": {},
   "cell_type": "code",
   "source": "# 介于jupyter的限制，这里采用的预设好的用户问题对话，我们也制作的终端对话的脚本，请参照show_main.py",
   "id": "491134254d2da51c",
   "outputs": [],
   "execution_count": null
  },
  {
   "metadata": {},
   "cell_type": "markdown",
   "source": [
    "### 4. 根据规范化简历json，基于场景构建一场模拟面试，用语音播放题目，允许用户使用语音或文字回答问题，并在最终给出面试评分\n",
    "#### 4.1. 模拟面试"
   ],
   "id": "68e3153e4bd7dfd7"
  },
  {
   "metadata": {},
   "cell_type": "code",
   "source": [
    "# 获取简历json\n",
    "resume_json"
   ],
   "id": "afb156eee6551197",
   "outputs": [],
   "execution_count": null
  },
  {
   "metadata": {},
   "cell_type": "code",
   "source": [
    "from util.llm import generate_interview_questions\n",
    "\n",
    "# 生成面试题列表\n",
    "interview_questions = generate_interview_questions(resume_json)\n",
    "questions_list = json.loads(interview_questions)[\"questions\"]\n",
    "questions_list"
   ],
   "id": "1544c55fcdf77a5e",
   "outputs": [],
   "execution_count": null
  },
  {
   "metadata": {},
   "cell_type": "code",
   "source": [
    "from util.llm import generate_questions_audio\n",
    "\n",
    "# 生成面试题语音\n",
    "questions_audio_list = generate_questions_audio(questions_list)\n",
    "questions_audio_list"
   ],
   "id": "38e768023dc1951d",
   "outputs": [],
   "execution_count": null
  },
  {
   "metadata": {},
   "cell_type": "markdown",
   "source": "#### 4.2. 面试评分",
   "id": "9964da81493a16dd"
  },
  {
   "metadata": {},
   "cell_type": "code",
   "outputs": [],
   "execution_count": null,
   "source": [
    "# 处理用户答案，这里还是采用预设的问题和结果进行演示\n",
    "user_answers = [\n",
    "    {\n",
    "        \"answer\":\"\",\n",
    "        \"type\": \"text\"\n",
    "    },\n",
    "    {\n",
    "        \"answer\":\"\",\n",
    "        \"type\": \"audio\"\n",
    "    }\n",
    "]\n",
    "\n",
    "answers_list = []\n",
    "answers_result = []\n",
    "for i in range(len(questions_list)):\n",
    "    answers_result.append({\n",
    "        \"question\": questions_list[i],\n",
    "        \"answer\": answers_list[i]\n",
    "    })\n",
    "\n",
    "answers_result"
   ],
   "id": "2a3c281f81d76b4b"
  },
  {
   "metadata": {},
   "cell_type": "code",
   "outputs": [],
   "execution_count": null,
   "source": [
    "# 面试结果\n",
    "from util.llm import interview_result\n",
    "interview_result_format = read_txt(\"assets/txt/interview_result_format.txt\")\n",
    "interview_result = interview_result(interview_result_format, resume_json, answers_result)\n",
    "interview_result"
   ],
   "id": "c7cdcfbfb0b9a03a"
  }
 ],
 "metadata": {
  "kernelspec": {
   "display_name": "Python 3",
   "language": "python",
   "name": "python3"
  },
  "language_info": {
   "codemirror_mode": {
    "name": "ipython",
    "version": 2
   },
   "file_extension": ".py",
   "mimetype": "text/x-python",
   "name": "python",
   "nbconvert_exporter": "python",
   "pygments_lexer": "ipython2",
   "version": "2.7.6"
  }
 },
 "nbformat": 4,
 "nbformat_minor": 5
}
