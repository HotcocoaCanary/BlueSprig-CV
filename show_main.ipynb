{
 "cells": [
  {
   "metadata": {},
   "cell_type": "markdown",
   "source": [
    "# BlueSprig-CV 蓝枝简历 — 简单demo演示\n",
    "## 1. 概述\n",
    "    本demo演示了本组使用蓝心大模型，通过构建prompt和message，实现了部分最终产品功能的python代码演示\n",
    "\n",
    "主要功能\n",
    "1. 解析word，pdf或者图片格式的简历，给出构建后的规范化简历json格式\n",
    "2. 根据规范化简历json，生成当前简历各个模块的评分，优化后的版本以及优化建议，提供多轮对话，可以按照用户的想法继续优化\n",
    "3. 根据规范化简历json，基于场景构建一场模拟面试，用语音播放题目，允许用户使用语音或文字回答问题，并在最终给出面试评分\n",
    "    1. 面试场景可以分为：技术面试、产品面试、HR面试、技术+产品面试、技术+HR面试等等，后续可能根据不同行业标准进行调整，可以通过RAG减弱大模型幻觉现象，保证面试题更贴近真实面试，（本功能点因为时间问题当前demo并未实现）\n"
   ],
   "id": "512b0e128f255603"
  },
  {
   "metadata": {},
   "cell_type": "markdown",
   "source": [
    "## 2. 主要功能演示\n",
    "### 1. 解析word，pdf或者图片格式的简历，给出构建后的规范化简历json格式"
   ],
   "id": "84b05f613fb571f8"
  },
  {
   "metadata": {
    "ExecuteTime": {
     "end_time": "2025-05-01T06:01:05.676069Z",
     "start_time": "2025-05-01T06:01:04.976758Z"
    }
   },
   "cell_type": "code",
   "source": [
    "import json\n",
    "\n",
    "# 工具方法\n",
    "from util.file_loader import load_file\n",
    "from util.llm import format_resume, better_resume_by_module_chat\n",
    "\n",
    "\n",
    "# 定义一个函数，用于读取txt文件\n",
    "def read_txt(file_path):\n",
    "    # 打开文件，以只读模式，编码格式为utf-8\n",
    "    with open(file_path, 'r', encoding='utf-8') as file:\n",
    "        # 读取文件内容，并去除首尾空格\n",
    "        return file.read().strip()"
   ],
   "id": "b34692beeab2f22",
   "outputs": [],
   "execution_count": 1
  },
  {
   "cell_type": "code",
   "id": "e58af40c5c13509b",
   "metadata": {
    "ExecuteTime": {
     "end_time": "2025-05-01T06:01:05.904432Z",
     "start_time": "2025-05-01T06:01:05.698855Z"
    }
   },
   "source": [
    "# 读取简历文件\n",
    "resume_path = 'assets/pdf/1.pdf'\n",
    "content = load_file(resume_path)\n",
    "content"
   ],
   "outputs": [
    {
     "data": {
      "text/plain": [
       "'张文博\\n意向岗位: 后端开发。\\n            \\n            \\n            \\n\\n电话：15602032933\\n邮箱：Hotcocoa.Canary@outlook.com。\\n            \\n            \\n            \\n\\n性别：男\\n年龄：21。\\n            \\n            \\n            \\n\\n户籍：内蒙古自治区\\n政治面貌：共青团员。\\n            \\n            \\n            \\n\\n民族：汉。\\n            \\n            \\n            \\n\\n求职意向。\\n            \\n            \\n            \\n\\n意向岗位: 后端开发\\n意向城市: 北京。\\n            \\n            \\n            \\n\\n期望薪资: 8k-20k\\n求职类型: 校招。\\n            \\n            \\n            \\n\\n期望行业: 计算机软件\\n当前状态: 月内到岗。\\n            \\n            \\n            \\n\\n教育经历。\\n            \\n            \\n            \\n\\n内蒙古农业大学。\\n            \\n            \\n            \\n\\n2022.09 - 2025.07。\\n            \\n            \\n            \\n\\n软件工程\\n本科\\n|。\\n            \\n            \\n            \\n\\n荣誉/奖项：。\\n            \\n            \\n            \\n\\n• 自治区励志奖学金（2023-10）。\\n            \\n            \\n            \\n\\n• 多次获得校级一等优秀学生（2024-5，2024-11）。\\n            \\n            \\n            \\n\\n• 学生会优秀干部（2022-2024）。\\n            \\n            \\n            \\n\\n项目经历。\\n            \\n            \\n            \\n\\n2024.12 - 2025.06。\\n            \\n            \\n            \\n\\nAI-云寻。\\n            \\n            \\n            \\n\\n基于Neo4j和NLP实现的简历关系展示查询系统。\\n            \\n            \\n            \\n\\n• 系统架构设计。\\n            \\n            \\n            \\n\\na. 采用前后端分离架构，前端基于Vue 3、Element Plus及ECharts实现。\\n            \\n            \\n            \\n\\nb. 后端基于Spring Boot搭建RESTful API。\\n            \\n            \\n            \\n\\nc. 数据存储使用Neo4j图数据库。\\n            \\n            \\n            \\n\\nd. 负责整体架构设计，明确系统目标，确保前后端高效协同。\\n            \\n            \\n            \\n\\n• 知识图谱可视化开发。\\n            \\n            \\n            \\n\\na. 独立完成技术选型与模块划分。\\n            \\n            \\n            \\n\\nb. 设计数据库表结构（论文、作者、机构、国家节点及关系）。\\n            \\n            \\n            \\n\\nc. 通过Neo4j的Cypher语言实现复杂关系查询。\\n            \\n            \\n            \\n\\nd. 使用ECharts力导向图动态展示知识图谱。\\n            \\n            \\n            \\n\\ne. 基于Spring Boot封装数据接口，实现可视化效果。\\n            \\n            \\n            \\n\\nf. 通过normalizedCypher方法将Neo4j查询结果规范化为JSON格式，优化大规模数据渲染性能，实现分页加载，提升。\\n            \\n            \\n            \\n\\n用户体验。\\n            \\n            \\n            \\n\\n• 自然语言处理（NLP）模块。\\n            \\n            \\n            \\n\\na. 集成Apache OpenNLP，实现英文实体识别（作者、机构、时间等），准确率达到85%。\\n            \\n            \\n            \\n\\nb. 设计extractEntityAttributes方法，将非结构化文本解析为结构化数据。\\n            \\n            \\n            \\n\\nc. 自动生成Cypher语句并写入Neo4j，提高数据处理效率。\\n            \\n            \\n            \\n\\n• 数据管理功能开发。\\n            \\n            \\n            \\n\\na. 多格式数据导入：基于Apache POI实现Excel数据解析，支持论文、作者、机构批量导入，提高数据导入效率。\\n            \\n            \\n            \\n\\nb. 数据导出与备份：开发Excel导出工具，支持论文关联关系一键生成报表，实现数据导出与备份功能。\\n            \\n            \\n            \\n\\n• 智能问答模块。\\n            \\n            \\n            \\n\\na. 结合NLP与Neo4j图查询，实现语义化问答接口。\\n            \\n            \\n            \\n\\n在校经历。\\n            \\n            \\n            \\n\\n计算机与信息工程学院创新创业协会。\\n            \\n            \\n            \\n\\n2023.10 - 2025.10。\\n            \\n            \\n            \\n\\n社团负责人。\\n            \\n            \\n            \\n\\n1. 参加机器人舞蹈大赛，负责舞台设备调配。\\n            \\n            \\n            \\n\\n2. 组织新成员培训工作。\\n            \\n            \\n            \\n\\n计算机与信息工程学院学生团委学生会。\\n            \\n            \\n            \\n\\n2023.10 - 2024.10。\\n            \\n            \\n            \\n\\n办公室部门 - 部长。\\n            \\n            \\n            \\n\\n1. 担任学院办公室部门部长 ， 负责学院学生的综测加减分统计 ， 社会实践评分。\\n            \\n            \\n            \\n\\n2. 配合学院团委 ， 完成各项任务。\\n            \\n            \\n            \\n\\n实习经历。\\n            \\n            \\n            \\n\\n北京以塔科技有限公司。\\n            \\n            \\n            \\n\\n2024.02 - 2024.10。\\n            \\n            \\n            \\n\\n大模型开发实习生。\\n            \\n            \\n            \\n\\n• 智能简历解析系统开发。\\n            \\n            \\n            \\n\\n• Context：应对企业多格式简历智能处理需求，设计可扩展的AI解析引擎。\\n            \\n            \\n            \\n\\n• Task：构建基于大模型的简历结构化处理与诊断系统。\\n            \\n            \\n            \\n\\n• Action：采用大模型Prompt工程针对项目接口进行开发（包含：简历诊断，pdf简历信息提取，图片简历信息提取，。\\n            \\n            \\n            \\n\\n简历优化）。\\n            \\n            \\n            \\n\\n• Result：完成大模型返回值提取规范化json功能，实现业务核心逻辑简历诊断及评分，实现业务核心逻辑简历优化，。\\n            \\n            \\n            \\n\\n对大模型Prompt的调试更加得心应手，对与要求大模型返回值的规范化处理积累一定经验，熟悉git开发流程。\\n            \\n            \\n            \\n\\n• RAG增强问答系统开发。\\n            \\n            \\n            \\n\\n•  Context：构建基于pdf检索增强生成的问答系统。\\n            \\n            \\n            \\n\\n• Task：实现文档智能解析与语义检索核心模块。\\n            \\n            \\n            \\n\\n• Action：基于LangChain搭建处理流水线，设计混合检索策略：关键词匹配 + 语义检索（ChromaDB向量库），实。\\n            \\n            \\n            \\n\\n现上下文感知问答：通过Prompt工程优化大模型响应准确。\\n            \\n            \\n            \\n\\n• Result：对大模型Prompt的调试有初步理解，了解RAG框架并实现了对应的工具包。\\n            \\n            \\n            \\n\\n• Dian项目后端架构与部署。\\n            \\n            \\n            \\n\\n• Context：整合RAG以及PDF处理构建的基于预设知识库的问答系统。\\n            \\n            \\n            \\n\\n• Task：实现RAG工具打包，pdf高亮处理，以及整个项目在服务器上的前后端部署。\\n            \\n            \\n            \\n\\n• Action：采用Nginx反向代理架构，实现Flask API服务与Next.js前端服务的无缝集成，实现基础环境隔离：开发环境。\\n            \\n            \\n            \\n\\n↔ 生产环境，通过环境变量实现配置隔离，使用PyPDFLoader对PDF进行高亮处理，使用base64数据进行前后端文。\\n            \\n            \\n            \\n\\n件传输，使用PDF.js对前端pdf进行渲染和实现点击定位功能。\\n            \\n            \\n            \\n\\n• Result：完成后端与前端的ubutun服务器部署，完成MySQL数据库在ubutun服务器部署。\\n            \\n            \\n            \\n\\n• Note-taking系统开发。\\n            \\n            \\n            \\n\\n• Context：构建企业级开发训练平台，验证关键技术方案可行性。\\n            \\n            \\n            \\n\\n• Task：实现用户系统与数据关系网络核心模块。\\n            \\n            \\n            \\n\\n• Action：采用Flask+JWT实现认证体系，Session机制维护登录态，设计MySQL实体-关系存储模型，支持双向关联。\\n            \\n            \\n            \\n\\n查询，基于ECharts构建关系拓扑图，实现200+节点交互展示。\\n            \\n            \\n            \\n\\n• Result：完成从本地调试到生产部署的完整工程实践闭环。\\n            \\n            \\n            \\n\\n北京泽云安科技有限公司。\\n            \\n            \\n            \\n\\n2023.07 - 2023.07。\\n            \\n            \\n            \\n\\n智慧农业系统开发实战培训。\\n            \\n            \\n            \\n\\n基于SSM框架实现的智慧农业系统。\\n            \\n            \\n            \\n\\n• 技术学习与实践。\\n            \\n            \\n            \\n\\na. Spring Boot：学习自动化配置、RESTful API开发，掌握核心注解。。\\n            \\n            \\n            \\n\\nb. MyBatis：深入理解ORM框架，实现动态SQL编写、多表联查及事务管理。。\\n            \\n            \\n            \\n\\nc. SSM整合：完成Spring MVC、Spring、MyBatis框架整合，设计分层架构（Controller-Service-DAO）。。\\n            \\n            \\n            \\n\\n• 项目实战：智慧农业系统。\\n            \\n            \\n            \\n\\na. 核心功能：设备管理：实现设备增删改查（CRUD），支持通过接口控制设备开关状态（如水泵、温控设备）。。\\n            \\n            \\n            \\n\\nb. 个人职责：项目管理：担任项目经理，协调6人团队分工，制定开发计划，确保项目按时交付。。\\n            \\n            \\n            \\n\\n荣誉证书。\\n            \\n            \\n            \\n\\n普通话二级甲等、2023届“高教社”杯全国大学生数学建模竞赛内蒙古赛区赛区三等奖、第十五届蓝桥杯全国软件和信息技术专。\\n            \\n            \\n            \\n\\n业人才大赛个人赛省赛(软件赛)二等奖、2024ICPC中国(西部)大学生程序设计竞赛银奖、2024ICPC丝绸之路中国邀请赛银奖、。\\n            \\n            \\n            \\n\\n第二十五届仿生多人机器人舞蹈优秀奖、第十四届“挑战杯”内蒙古大学生创业计划竞赛铜奖。\\n            \\n            \\n            \\n\\n'"
      ]
     },
     "execution_count": 2,
     "metadata": {},
     "output_type": "execute_result"
    }
   ],
   "execution_count": 2
  },
  {
   "metadata": {
    "ExecuteTime": {
     "end_time": "2025-05-01T06:02:23.280398Z",
     "start_time": "2025-05-01T06:01:09.527728Z"
    }
   },
   "cell_type": "code",
   "source": [
    "# 获取标准解析简历json格式\n",
    "resume_format = read_txt('assets/txt/resume_format.txt')\n",
    "response_content = format_resume(resume_format, content)\n",
    "response_content"
   ],
   "id": "865e0c78b11d9d38",
   "outputs": [
    {
     "data": {
      "text/plain": [
       "'{\"job_intent_info\":[{\"job_intention\":\"后端开发\",\"expected_salary\":\"8k-20k\",\"preferred_city\":\"北京\",\"job_industry\":\"计算机软件\",\"job_type\":\"校招\"}],\"basic_info\":{\"name\":\"张文博\",\"age\":\"21\",\"sex\":\"男\",\"native_place\":\"内蒙古自治区\",\"education\":\"本科\",\"if_party_membership\":\"共青团员\",\"marital_status\":\"\",\"phone_number\":\"15602032933\",\"email\":\"Hotcocoa.Canary@outlook.com\",\"if_fresh_graduate\":\"是\",\"years_of_work_experience\":\"\",\"expected_salary\":\"\"},\"work_experience\":[{\"job_position\":\"大模型开发实习生\",\"work_period\":\"2024.02 - 2024.10\",\"company_name\":\"北京以塔科技有限公司\",\"work_content\":\"• 智能简历解析系统开发。\\\\n• Context：应对企业多格式简历智能处理需求，设计可扩展的AI解析引擎。\\\\n• Task：构建基于大模型的简历结构化处理与诊断系统。\\\\n• Action：采用大模型Prompt工程针对项目接口进行开发（包含：简历诊断，pdf简历信息提取，图片简历信息提取，\\\\n简历优化）。\\\\n• Result：完成大模型返回值提取规范化json功能，实现业务核心逻辑简历诊断及评分，实现业务核心逻辑简历优化，\\\\n对大模型Prompt的调试更加得心应手，对与要求大模型返回值的规范化处理积累一定经验，熟悉git开发流程。\\\\n• RAG增强问答系统开发。\\\\n•  Context：构建基于pdf检索增强生成的问答系统。\\\\n• Task：实现文档智能解析与语义检索核心模块。\\\\n• Action：基于LangChain搭建处理流水线，设计混合检索策略：关键词匹配 + 语义检索（ChromaDB向量库），实\\\\n现上下文感知问答：通过Prompt工程优化大模型响应准确。\\\\n• Result：对大模型Prompt的调试有初步理解，了解RAG框架并实现了对应的工具包。\\\\n• Dian项目后端架构与部署。\\\\n• Context：整合RAG以及PDF处理构建的基于预设知识库的问答系统。\\\\n• Task：实现RAG工具打包，pdf高亮处理，以及整个项目在服务器上的前后端部署。\\\\n• Action：采用Nginx反向代理架构，实现Flask API服务与Next.js前端服务的无缝集成，实现基础环境隔离：开发环境\\\\n↔ 生产环境，通过环境变量实现配置隔离，使用PyPDFLoader对PDF进行高亮处理，使用base64数据进行前后端文\\\\n件传输，使用PDF.js对前端pdf进行渲染和实现点击定位功能。\\\\n• Result：完成后端与前端的ubutun服务器部署，完成MySQL数据库在ubutun服务器部署。\\\\n• Note-taking系统开发。\\\\n• Context：构建企业级开发训练平台，验证关键技术方案可行性。\\\\n• Task：实现用户系统与数据关系网络核心模块。\\\\n• Action：采用Flask+JWT实现认证体系，Session机制维护登录态，设计MySQL实体-关系存储模型，支持双向关联\\\\n查询，基于ECharts构建关系拓扑图，实现200+节点交互展示。\\\\n• Result：完成从本地调试到生产部署的完整工程实践闭环。\"}],\"project_experience\":[{\"project_name\":\"AI-云寻\",\"project_position\":\"\",\"project_period\":\"2024.12 - 2025.06\",\"project_company_name\":\"\",\"project_description\":\"• 系统架构设计。\\\\n• a. 采用前后端分离架构，前端基于Vue 3、Element Plus及ECharts实现。\\\\n• b. 后端基于Spring Boot搭建RESTful API。\\\\n• c. 数据存储使用Neo4j图数据库。\\\\n• d. 负责整体架构设计，明确系统目标，确保前后端高效协同。\\\\n• 知识图谱可视化开发。\\\\n• a. 独立完成技术选型与模块划分。\\\\n• b. 设计数据库表结构（论文、作者、机构、国家节点及关系）。\\\\n• c. 通过Neo4j的Cypher语言实现复杂关系查询。\\\\n• d. 使用ECharts力导向图动态展示知识图谱。\\\\n• e. 基于Spring Boot封装数据接口，实现可视化效果。\\\\n• f. 通过normalizedCypher方法将Neo4j查询结果规范化为JSON格式，优化大规模数据渲染性能，实现分页加载，提升\\\\n用户体验。\\\\n• 自然语言处理（NLP）模块。\\\\n• a. 集成Apache OpenNLP，实现英文实体识别（作者、机构、时间等），准确率达到85%。\\\\n• b. 设计extractEntityAttributes方法，将非结构化文本解析为结构化数据。\\\\n• c. 自动生成Cypher语句并写入Neo4j，提高数据处理效率。\\\\n• 数据管理功能开发。\\\\n• a. 多格式数据导入：基于Apache POI实现Excel数据解析，支持论文、作者、机构批量导入，提高数据导入效率。\\\\n• b. 数据导出与备份：开发Excel导出工具，支持论文关联关系一键生成报表，实现数据导出与备份功能。\\\\n• 智能问答模块。\\\\n• a. 结合NLP与Neo4j图查询，实现语义化问答接口。\"}],\"education_experience\":[{\"institution_name\":\"内蒙古农业大学\",\"study_period\":\"2022.09 - 2025.07\",\"academic_ranking\":\"\",\"major\":\"软件工程\",\"degree\":\"本科\",\"campus_experience\":[{\"campus_activity\":\"计算机与信息工程学院创新创业协会\",\"campus_position\":\"社团负责人\",\"campus_description\":\"1. 参加机器人舞蹈大赛，负责舞台设备调配。\\\\n2. 组织新成员培训工作。\"},{\"campus_activity\":\"计算机与信息工程学院学生团委学生会\",\"campus_position\":\"办公室部门 - 部长\",\"campus_description\":\"1. 担任学院办公室部门部长 ， 负责学院学生的综测加减分统计 ， 社会实践评分。\\\\n2. 配合学院团委 ， 完成各项任务。\"}],\"description\":\"\"}],\"certificates\":{\"competition_awards\":[{\"item\":\"普通话二级甲等\",\"description\":\"\"},{\"item\":\"2023届“高教社”杯全国大学生数学建模竞赛内蒙古赛区赛区三等奖\",\"description\":\"\"},{\"item\":\"第十五届蓝桥杯全国软件和信息技术专业人才大赛个人赛省赛(软件赛)二等奖\",\"description\":\"\"},{\"item\":\"2024ICPC中国(西部)大学生程序设计竞赛银奖\",\"description\":\"\"},{\"item\":\"2024ICPC丝绸之路中国邀请赛银奖\",\"description\":\"\"},{\"item\":\"第二十五届仿生多人机器人舞蹈优秀奖\",\"description\":\"\"},{\"item\":\"第十四届“挑战杯”内蒙古大学生创业计划竞赛铜奖\",\"description\":\"\"}],\"patent_certificates\":[],\"training_certificates\":[],\"charity_certificates\":[],\"skills_certificates\":[],\"qualification_certificates\":[]},\"technical_skills\":[{\"skill_name\":\"Spring Boot\",\"skill_level\":\"\",\"skill_description\":\"学习自动化配置、RESTful API开发，掌握核心注解。\"},{\"skill_name\":\"MyBatis\",\"skill_level\":\"\",\"skill_description\":\"深入理解ORM框架，实现动态SQL编写、多表联查及事务管理。\"},{\"skill_name\":\"SSM整合\",\"skill_level\":\"\",\"skill_description\":\"完成Spring MVC、Spring、MyBatis框架整合，设计分层架构（Controller-Service-DAO）。\"}],\"portfolio\":[]}'"
      ]
     },
     "execution_count": 3,
     "metadata": {},
     "output_type": "execute_result"
    }
   ],
   "execution_count": 3
  },
  {
   "metadata": {},
   "cell_type": "markdown",
   "source": "### 3. 根据规范化简历json，生成当前简历各个模块的评分，优化后的版本以及优化建议，提供多轮对话，可以按照用户的想法继续优化",
   "id": "df71f2f3d1dc4aa7"
  },
  {
   "metadata": {},
   "cell_type": "markdown",
   "source": "#### 3.1. 简历优化版本",
   "id": "947f830730d7bcd0"
  },
  {
   "metadata": {
    "ExecuteTime": {
     "end_time": "2025-05-01T06:02:28.717783Z",
     "start_time": "2025-05-01T06:02:28.712245Z"
    }
   },
   "cell_type": "code",
   "source": [
    "# 简历json数据\n",
    "resume_json = json.loads(response_content)\n",
    "resume_json"
   ],
   "id": "c414835025e70959",
   "outputs": [
    {
     "data": {
      "text/plain": [
       "{'job_intent_info': [{'job_intention': '后端开发',\n",
       "   'expected_salary': '8k-20k',\n",
       "   'preferred_city': '北京',\n",
       "   'job_industry': '计算机软件',\n",
       "   'job_type': '校招'}],\n",
       " 'basic_info': {'name': '张文博',\n",
       "  'age': '21',\n",
       "  'sex': '男',\n",
       "  'native_place': '内蒙古自治区',\n",
       "  'education': '本科',\n",
       "  'if_party_membership': '共青团员',\n",
       "  'marital_status': '',\n",
       "  'phone_number': '15602032933',\n",
       "  'email': 'Hotcocoa.Canary@outlook.com',\n",
       "  'if_fresh_graduate': '是',\n",
       "  'years_of_work_experience': '',\n",
       "  'expected_salary': ''},\n",
       " 'work_experience': [{'job_position': '大模型开发实习生',\n",
       "   'work_period': '2024.02 - 2024.10',\n",
       "   'company_name': '北京以塔科技有限公司',\n",
       "   'work_content': '• 智能简历解析系统开发。\\n• Context：应对企业多格式简历智能处理需求，设计可扩展的AI解析引擎。\\n• Task：构建基于大模型的简历结构化处理与诊断系统。\\n• Action：采用大模型Prompt工程针对项目接口进行开发（包含：简历诊断，pdf简历信息提取，图片简历信息提取，\\n简历优化）。\\n• Result：完成大模型返回值提取规范化json功能，实现业务核心逻辑简历诊断及评分，实现业务核心逻辑简历优化，\\n对大模型Prompt的调试更加得心应手，对与要求大模型返回值的规范化处理积累一定经验，熟悉git开发流程。\\n• RAG增强问答系统开发。\\n•  Context：构建基于pdf检索增强生成的问答系统。\\n• Task：实现文档智能解析与语义检索核心模块。\\n• Action：基于LangChain搭建处理流水线，设计混合检索策略：关键词匹配 + 语义检索（ChromaDB向量库），实\\n现上下文感知问答：通过Prompt工程优化大模型响应准确。\\n• Result：对大模型Prompt的调试有初步理解，了解RAG框架并实现了对应的工具包。\\n• Dian项目后端架构与部署。\\n• Context：整合RAG以及PDF处理构建的基于预设知识库的问答系统。\\n• Task：实现RAG工具打包，pdf高亮处理，以及整个项目在服务器上的前后端部署。\\n• Action：采用Nginx反向代理架构，实现Flask API服务与Next.js前端服务的无缝集成，实现基础环境隔离：开发环境\\n↔ 生产环境，通过环境变量实现配置隔离，使用PyPDFLoader对PDF进行高亮处理，使用base64数据进行前后端文\\n件传输，使用PDF.js对前端pdf进行渲染和实现点击定位功能。\\n• Result：完成后端与前端的ubutun服务器部署，完成MySQL数据库在ubutun服务器部署。\\n• Note-taking系统开发。\\n• Context：构建企业级开发训练平台，验证关键技术方案可行性。\\n• Task：实现用户系统与数据关系网络核心模块。\\n• Action：采用Flask+JWT实现认证体系，Session机制维护登录态，设计MySQL实体-关系存储模型，支持双向关联\\n查询，基于ECharts构建关系拓扑图，实现200+节点交互展示。\\n• Result：完成从本地调试到生产部署的完整工程实践闭环。'}],\n",
       " 'project_experience': [{'project_name': 'AI-云寻',\n",
       "   'project_position': '',\n",
       "   'project_period': '2024.12 - 2025.06',\n",
       "   'project_company_name': '',\n",
       "   'project_description': '• 系统架构设计。\\n• a. 采用前后端分离架构，前端基于Vue 3、Element Plus及ECharts实现。\\n• b. 后端基于Spring Boot搭建RESTful API。\\n• c. 数据存储使用Neo4j图数据库。\\n• d. 负责整体架构设计，明确系统目标，确保前后端高效协同。\\n• 知识图谱可视化开发。\\n• a. 独立完成技术选型与模块划分。\\n• b. 设计数据库表结构（论文、作者、机构、国家节点及关系）。\\n• c. 通过Neo4j的Cypher语言实现复杂关系查询。\\n• d. 使用ECharts力导向图动态展示知识图谱。\\n• e. 基于Spring Boot封装数据接口，实现可视化效果。\\n• f. 通过normalizedCypher方法将Neo4j查询结果规范化为JSON格式，优化大规模数据渲染性能，实现分页加载，提升\\n用户体验。\\n• 自然语言处理（NLP）模块。\\n• a. 集成Apache OpenNLP，实现英文实体识别（作者、机构、时间等），准确率达到85%。\\n• b. 设计extractEntityAttributes方法，将非结构化文本解析为结构化数据。\\n• c. 自动生成Cypher语句并写入Neo4j，提高数据处理效率。\\n• 数据管理功能开发。\\n• a. 多格式数据导入：基于Apache POI实现Excel数据解析，支持论文、作者、机构批量导入，提高数据导入效率。\\n• b. 数据导出与备份：开发Excel导出工具，支持论文关联关系一键生成报表，实现数据导出与备份功能。\\n• 智能问答模块。\\n• a. 结合NLP与Neo4j图查询，实现语义化问答接口。'}],\n",
       " 'education_experience': [{'institution_name': '内蒙古农业大学',\n",
       "   'study_period': '2022.09 - 2025.07',\n",
       "   'academic_ranking': '',\n",
       "   'major': '软件工程',\n",
       "   'degree': '本科',\n",
       "   'campus_experience': [{'campus_activity': '计算机与信息工程学院创新创业协会',\n",
       "     'campus_position': '社团负责人',\n",
       "     'campus_description': '1. 参加机器人舞蹈大赛，负责舞台设备调配。\\n2. 组织新成员培训工作。'},\n",
       "    {'campus_activity': '计算机与信息工程学院学生团委学生会',\n",
       "     'campus_position': '办公室部门 - 部长',\n",
       "     'campus_description': '1. 担任学院办公室部门部长 ， 负责学院学生的综测加减分统计 ， 社会实践评分。\\n2. 配合学院团委 ， 完成各项任务。'}],\n",
       "   'description': ''}],\n",
       " 'certificates': {'competition_awards': [{'item': '普通话二级甲等',\n",
       "    'description': ''},\n",
       "   {'item': '2023届“高教社”杯全国大学生数学建模竞赛内蒙古赛区赛区三等奖', 'description': ''},\n",
       "   {'item': '第十五届蓝桥杯全国软件和信息技术专业人才大赛个人赛省赛(软件赛)二等奖', 'description': ''},\n",
       "   {'item': '2024ICPC中国(西部)大学生程序设计竞赛银奖', 'description': ''},\n",
       "   {'item': '2024ICPC丝绸之路中国邀请赛银奖', 'description': ''},\n",
       "   {'item': '第二十五届仿生多人机器人舞蹈优秀奖', 'description': ''},\n",
       "   {'item': '第十四届“挑战杯”内蒙古大学生创业计划竞赛铜奖', 'description': ''}],\n",
       "  'patent_certificates': [],\n",
       "  'training_certificates': [],\n",
       "  'charity_certificates': [],\n",
       "  'skills_certificates': [],\n",
       "  'qualification_certificates': []},\n",
       " 'technical_skills': [{'skill_name': 'Spring Boot',\n",
       "   'skill_level': '',\n",
       "   'skill_description': '学习自动化配置、RESTful API开发，掌握核心注解。'},\n",
       "  {'skill_name': 'MyBatis',\n",
       "   'skill_level': '',\n",
       "   'skill_description': '深入理解ORM框架，实现动态SQL编写、多表联查及事务管理。'},\n",
       "  {'skill_name': 'SSM整合',\n",
       "   'skill_level': '',\n",
       "   'skill_description': '完成Spring MVC、Spring、MyBatis框架整合，设计分层架构（Controller-Service-DAO）。'}],\n",
       " 'portfolio': []}"
      ]
     },
     "execution_count": 4,
     "metadata": {},
     "output_type": "execute_result"
    }
   ],
   "execution_count": 4
  },
  {
   "metadata": {
    "ExecuteTime": {
     "end_time": "2025-05-01T06:03:24.497018Z",
     "start_time": "2025-05-01T06:02:31.141323Z"
    }
   },
   "cell_type": "code",
   "source": [
    "from util.llm import better_resume_by_module\n",
    "\n",
    "\n",
    "work_experience_content = resume_json[\"work_experience\"]\n",
    "education_experience_content = resume_json[\"education_experience\"]\n",
    "project_experience_content = resume_json[\"project_experience\"]\n",
    "\n",
    "work_experience_format = read_txt(\"assets/txt/greater_resume_module/work_experience.txt\")\n",
    "education_experience_format = read_txt(\"assets/txt/greater_resume_module/education_experience.txt\")\n",
    "project_experience_format = read_txt(\"assets/txt/greater_resume_module/project_experience.txt\")\n",
    "\n",
    "work = better_resume_by_module(work_experience_format, work_experience_content, \"工作经历\")\n",
    "education = better_resume_by_module(education_experience_format, education_experience_content, \"教育经历\")\n",
    "project = better_resume_by_module(project_experience_format, project_experience_content, \"项目经历\")\n",
    "\n",
    "project = json.loads(project)\n",
    "work = json.loads(work)\n",
    "education = json.loads(education)\n",
    "\n",
    "resume_json[\"project_experience\"] = project\n",
    "resume_json[\"work_experience\"] = work\n",
    "resume_json[\"education_experience\"] = education\n",
    "\n",
    "resume_json"
   ],
   "id": "b89628ad50e7d024",
   "outputs": [
    {
     "data": {
      "text/plain": [
       "{'job_intent_info': [{'job_intention': '后端开发',\n",
       "   'expected_salary': '8k-20k',\n",
       "   'preferred_city': '北京',\n",
       "   'job_industry': '计算机软件',\n",
       "   'job_type': '校招'}],\n",
       " 'basic_info': {'name': '张文博',\n",
       "  'age': '21',\n",
       "  'sex': '男',\n",
       "  'native_place': '内蒙古自治区',\n",
       "  'education': '本科',\n",
       "  'if_party_membership': '共青团员',\n",
       "  'marital_status': '',\n",
       "  'phone_number': '15602032933',\n",
       "  'email': 'Hotcocoa.Canary@outlook.com',\n",
       "  'if_fresh_graduate': '是',\n",
       "  'years_of_work_experience': '',\n",
       "  'expected_salary': ''},\n",
       " 'work_experience': [{'company': '北京以塔科技有限公司',\n",
       "   'position': '大模型开发实习生',\n",
       "   'location': '',\n",
       "   'duration': '2024.02 - 2024.10',\n",
       "   'responsibilities': [{'item': '智能简历解析系统开发',\n",
       "     'description': '应对企业多格式简历智能处理需求，设计可扩展的AI解析引擎。构建基于大模型的简历结构化处理与诊断系统。采用大模型Prompt工程针对项目接口进行开发（包含：简历诊断，pdf简历信息提取，图片简历信息提取，简历优化）。完成大模型返回值提取规范化json功能，实现业务核心逻辑简历诊断及评分，实现业务核心逻辑简历优化，对大模型Prompt的调试更加得心应手，对与要求大模型返回值的规范化处理积累一定经验，熟悉git开发流程。'},\n",
       "    {'item': 'RAG增强问答系统开发',\n",
       "     'description': '构建基于pdf检索增强生成的问答系统。实现文档智能解析与语义检索核心模块。基于LangChain搭建处理流水线，设计混合检索策略：关键词匹配 + 语义检索（ChromaDB向量库），实现上下文感知问答：通过Prompt工程优化大模型响应准确。对大模型Prompt的调试有初步理解，了解RAG框架并实现了对应的工具包。'},\n",
       "    {'item': 'Dian项目后端架构与部署',\n",
       "     'description': '整合RAG以及PDF处理构建的基于预设知识库的问答系统。实现RAG工具打包，pdf高亮处理，以及整个项目在服务器上的前后端部署。采用Nginx反向代理架构，实现Flask API服务与Next.js前端服务的无缝集成，实现基础环境隔离：开发环境↔ 生产环境，通过环境变量实现配置隔离，使用PyPDFLoader对PDF进行高亮处理，使用base64数据进行前后端文件传输，使用PDF.js对前端pdf进行渲染和实现点击定位功能。完成后端与前端的ubutun服务器部署，完成MySQL数据库在ubutun服务器部署。'},\n",
       "    {'item': 'Note-taking系统开发',\n",
       "     'description': '构建企业级开发训练平台，验证关键技术方案可行性。实现用户系统与数据关系网络核心模块。采用Flask+JWT实现认证体系，Session机制维护登录态，设计MySQL实体-关系存储模型，支持双向关联查询，基于ECharts构建关系拓扑图，实现200+节点交互展示。完成从本地调试到生产部署的完整工程实践闭环。'}]}],\n",
       " 'project_experience': [{'project_name': 'AI-云寻',\n",
       "   'position': '',\n",
       "   'location': '',\n",
       "   'duration': '2024.12 - 2025.06',\n",
       "   'responsibilities': [{'item': '系统架构设计',\n",
       "     'description': '采用前后端分离架构，前端基于Vue 3、Element Plus及ECharts实现。后端基于Spring Boot搭建RESTful API。数据存储使用Neo4j图数据库。负责整体架构设计，明确系统目标，确保前后端高效协同。'},\n",
       "    {'item': '知识图谱可视化开发',\n",
       "     'description': '独立完成技术选型与模块划分。设计数据库表结构（论文、作者、机构、国家节点及关系）。通过Neo4j的Cypher语言实现复杂关系查询。使用ECharts力导向图动态展示知识图谱。基于Spring Boot封装数据接口，实现可视化效果。通过normalizedCypher方法将Neo4j查询结果规范化为JSON格式，优化大规模数据渲染性能，实现分页加载，提升用户体验。'},\n",
       "    {'item': '自然语言处理（NLP）模块',\n",
       "     'description': '集成Apache OpenNLP，实现英文实体识别（作者、机构、时间等），准确率达到85%。设计extractEntityAttributes方法，将非结构化文本解析为结构化数据。自动生成Cypher语句并写入Neo4j，提高数据处理效率。'}]}],\n",
       " 'education_experience': {'institution_name': '内蒙古农业大学',\n",
       "  'study_period': '2022.09 - 2025.07',\n",
       "  'academic_ranking': '',\n",
       "  'major': '软件工程',\n",
       "  'degree': '本科',\n",
       "  'campus_experience': [{'campus_activity': '计算机与信息工程学院创新创业协会',\n",
       "    'campus_position': '社团负责人',\n",
       "    'campus_description': '1. 参加机器人舞蹈大赛，负责舞台设备调配。\\n2. 组织新成员培训工作。'},\n",
       "   {'campus_activity': '计算机与信息工程学院学生团委学生会',\n",
       "    'campus_position': '办公室部门 - 部长',\n",
       "    'campus_description': '1. 担任学院办公室部门部长 ， 负责学院学生的综测加减分统计 ， 社会实践评分。\\n2. 配合学院团委 ， 完成各项任务。'}],\n",
       "  'description': ''},\n",
       " 'certificates': {'competition_awards': [{'item': '普通话二级甲等',\n",
       "    'description': ''},\n",
       "   {'item': '2023届“高教社”杯全国大学生数学建模竞赛内蒙古赛区赛区三等奖', 'description': ''},\n",
       "   {'item': '第十五届蓝桥杯全国软件和信息技术专业人才大赛个人赛省赛(软件赛)二等奖', 'description': ''},\n",
       "   {'item': '2024ICPC中国(西部)大学生程序设计竞赛银奖', 'description': ''},\n",
       "   {'item': '2024ICPC丝绸之路中国邀请赛银奖', 'description': ''},\n",
       "   {'item': '第二十五届仿生多人机器人舞蹈优秀奖', 'description': ''},\n",
       "   {'item': '第十四届“挑战杯”内蒙古大学生创业计划竞赛铜奖', 'description': ''}],\n",
       "  'patent_certificates': [],\n",
       "  'training_certificates': [],\n",
       "  'charity_certificates': [],\n",
       "  'skills_certificates': [],\n",
       "  'qualification_certificates': []},\n",
       " 'technical_skills': [{'skill_name': 'Spring Boot',\n",
       "   'skill_level': '',\n",
       "   'skill_description': '学习自动化配置、RESTful API开发，掌握核心注解。'},\n",
       "  {'skill_name': 'MyBatis',\n",
       "   'skill_level': '',\n",
       "   'skill_description': '深入理解ORM框架，实现动态SQL编写、多表联查及事务管理。'},\n",
       "  {'skill_name': 'SSM整合',\n",
       "   'skill_level': '',\n",
       "   'skill_description': '完成Spring MVC、Spring、MyBatis框架整合，设计分层架构（Controller-Service-DAO）。'}],\n",
       " 'portfolio': []}"
      ]
     },
     "execution_count": 5,
     "metadata": {},
     "output_type": "execute_result"
    }
   ],
   "execution_count": 5
  },
  {
   "metadata": {},
   "cell_type": "markdown",
   "source": "#### 3.2. 简历优化对话",
   "id": "30f75958ee2ecef1"
  },
  {
   "metadata": {
    "ExecuteTime": {
     "end_time": "2025-05-01T06:28:34.003082Z",
     "start_time": "2025-05-01T06:28:33.997628Z"
    }
   },
   "cell_type": "code",
   "source": [
    "# 获取原始简历\n",
    "resume_json_old = json.loads(response_content)\n",
    "resume_json_old"
   ],
   "id": "3335634623cb723b",
   "outputs": [
    {
     "data": {
      "text/plain": [
       "{'job_intent_info': [{'job_intention': '后端开发',\n",
       "   'expected_salary': '8k-20k',\n",
       "   'preferred_city': '北京',\n",
       "   'job_industry': '计算机软件',\n",
       "   'job_type': '校招'}],\n",
       " 'basic_info': {'name': '张文博',\n",
       "  'age': '21',\n",
       "  'sex': '男',\n",
       "  'native_place': '内蒙古自治区',\n",
       "  'education': '本科',\n",
       "  'if_party_membership': '共青团员',\n",
       "  'marital_status': '',\n",
       "  'phone_number': '15602032933',\n",
       "  'email': 'Hotcocoa.Canary@outlook.com',\n",
       "  'if_fresh_graduate': '是',\n",
       "  'years_of_work_experience': '',\n",
       "  'expected_salary': ''},\n",
       " 'work_experience': [{'job_position': '大模型开发实习生',\n",
       "   'work_period': '2024.02 - 2024.10',\n",
       "   'company_name': '北京以塔科技有限公司',\n",
       "   'work_content': '• 智能简历解析系统开发。\\n• Context：应对企业多格式简历智能处理需求，设计可扩展的AI解析引擎。\\n• Task：构建基于大模型的简历结构化处理与诊断系统。\\n• Action：采用大模型Prompt工程针对项目接口进行开发（包含：简历诊断，pdf简历信息提取，图片简历信息提取，\\n简历优化）。\\n• Result：完成大模型返回值提取规范化json功能，实现业务核心逻辑简历诊断及评分，实现业务核心逻辑简历优化，\\n对大模型Prompt的调试更加得心应手，对与要求大模型返回值的规范化处理积累一定经验，熟悉git开发流程。\\n• RAG增强问答系统开发。\\n•  Context：构建基于pdf检索增强生成的问答系统。\\n• Task：实现文档智能解析与语义检索核心模块。\\n• Action：基于LangChain搭建处理流水线，设计混合检索策略：关键词匹配 + 语义检索（ChromaDB向量库），实\\n现上下文感知问答：通过Prompt工程优化大模型响应准确。\\n• Result：对大模型Prompt的调试有初步理解，了解RAG框架并实现了对应的工具包。\\n• Dian项目后端架构与部署。\\n• Context：整合RAG以及PDF处理构建的基于预设知识库的问答系统。\\n• Task：实现RAG工具打包，pdf高亮处理，以及整个项目在服务器上的前后端部署。\\n• Action：采用Nginx反向代理架构，实现Flask API服务与Next.js前端服务的无缝集成，实现基础环境隔离：开发环境\\n↔ 生产环境，通过环境变量实现配置隔离，使用PyPDFLoader对PDF进行高亮处理，使用base64数据进行前后端文\\n件传输，使用PDF.js对前端pdf进行渲染和实现点击定位功能。\\n• Result：完成后端与前端的ubutun服务器部署，完成MySQL数据库在ubutun服务器部署。\\n• Note-taking系统开发。\\n• Context：构建企业级开发训练平台，验证关键技术方案可行性。\\n• Task：实现用户系统与数据关系网络核心模块。\\n• Action：采用Flask+JWT实现认证体系，Session机制维护登录态，设计MySQL实体-关系存储模型，支持双向关联\\n查询，基于ECharts构建关系拓扑图，实现200+节点交互展示。\\n• Result：完成从本地调试到生产部署的完整工程实践闭环。'}],\n",
       " 'project_experience': [{'project_name': 'AI-云寻',\n",
       "   'project_position': '',\n",
       "   'project_period': '2024.12 - 2025.06',\n",
       "   'project_company_name': '',\n",
       "   'project_description': '• 系统架构设计。\\n• a. 采用前后端分离架构，前端基于Vue 3、Element Plus及ECharts实现。\\n• b. 后端基于Spring Boot搭建RESTful API。\\n• c. 数据存储使用Neo4j图数据库。\\n• d. 负责整体架构设计，明确系统目标，确保前后端高效协同。\\n• 知识图谱可视化开发。\\n• a. 独立完成技术选型与模块划分。\\n• b. 设计数据库表结构（论文、作者、机构、国家节点及关系）。\\n• c. 通过Neo4j的Cypher语言实现复杂关系查询。\\n• d. 使用ECharts力导向图动态展示知识图谱。\\n• e. 基于Spring Boot封装数据接口，实现可视化效果。\\n• f. 通过normalizedCypher方法将Neo4j查询结果规范化为JSON格式，优化大规模数据渲染性能，实现分页加载，提升\\n用户体验。\\n• 自然语言处理（NLP）模块。\\n• a. 集成Apache OpenNLP，实现英文实体识别（作者、机构、时间等），准确率达到85%。\\n• b. 设计extractEntityAttributes方法，将非结构化文本解析为结构化数据。\\n• c. 自动生成Cypher语句并写入Neo4j，提高数据处理效率。\\n• 数据管理功能开发。\\n• a. 多格式数据导入：基于Apache POI实现Excel数据解析，支持论文、作者、机构批量导入，提高数据导入效率。\\n• b. 数据导出与备份：开发Excel导出工具，支持论文关联关系一键生成报表，实现数据导出与备份功能。\\n• 智能问答模块。\\n• a. 结合NLP与Neo4j图查询，实现语义化问答接口。'}],\n",
       " 'education_experience': [{'institution_name': '内蒙古农业大学',\n",
       "   'study_period': '2022.09 - 2025.07',\n",
       "   'academic_ranking': '',\n",
       "   'major': '软件工程',\n",
       "   'degree': '本科',\n",
       "   'campus_experience': [{'campus_activity': '计算机与信息工程学院创新创业协会',\n",
       "     'campus_position': '社团负责人',\n",
       "     'campus_description': '1. 参加机器人舞蹈大赛，负责舞台设备调配。\\n2. 组织新成员培训工作。'},\n",
       "    {'campus_activity': '计算机与信息工程学院学生团委学生会',\n",
       "     'campus_position': '办公室部门 - 部长',\n",
       "     'campus_description': '1. 担任学院办公室部门部长 ， 负责学院学生的综测加减分统计 ， 社会实践评分。\\n2. 配合学院团委 ， 完成各项任务。'}],\n",
       "   'description': ''}],\n",
       " 'certificates': {'competition_awards': [{'item': '普通话二级甲等',\n",
       "    'description': ''},\n",
       "   {'item': '2023届“高教社”杯全国大学生数学建模竞赛内蒙古赛区赛区三等奖', 'description': ''},\n",
       "   {'item': '第十五届蓝桥杯全国软件和信息技术专业人才大赛个人赛省赛(软件赛)二等奖', 'description': ''},\n",
       "   {'item': '2024ICPC中国(西部)大学生程序设计竞赛银奖', 'description': ''},\n",
       "   {'item': '2024ICPC丝绸之路中国邀请赛银奖', 'description': ''},\n",
       "   {'item': '第二十五届仿生多人机器人舞蹈优秀奖', 'description': ''},\n",
       "   {'item': '第十四届“挑战杯”内蒙古大学生创业计划竞赛铜奖', 'description': ''}],\n",
       "  'patent_certificates': [],\n",
       "  'training_certificates': [],\n",
       "  'charity_certificates': [],\n",
       "  'skills_certificates': [],\n",
       "  'qualification_certificates': []},\n",
       " 'technical_skills': [{'skill_name': 'Spring Boot',\n",
       "   'skill_level': '',\n",
       "   'skill_description': '学习自动化配置、RESTful API开发，掌握核心注解。'},\n",
       "  {'skill_name': 'MyBatis',\n",
       "   'skill_level': '',\n",
       "   'skill_description': '深入理解ORM框架，实现动态SQL编写、多表联查及事务管理。'},\n",
       "  {'skill_name': 'SSM整合',\n",
       "   'skill_level': '',\n",
       "   'skill_description': '完成Spring MVC、Spring、MyBatis框架整合，设计分层架构（Controller-Service-DAO）。'}],\n",
       " 'portfolio': []}"
      ]
     },
     "execution_count": 6,
     "metadata": {},
     "output_type": "execute_result"
    }
   ],
   "execution_count": 6
  },
  {
   "metadata": {
    "ExecuteTime": {
     "end_time": "2025-05-01T06:28:48.510688Z",
     "start_time": "2025-05-01T06:28:48.505033Z"
    }
   },
   "cell_type": "code",
   "source": [
    "# 获取优化后的简历\n",
    "resume_json_new = resume_json\n",
    "resume_json_new"
   ],
   "id": "24ded47fa2e19448",
   "outputs": [
    {
     "data": {
      "text/plain": [
       "{'job_intent_info': [{'job_intention': '后端开发',\n",
       "   'expected_salary': '8k-20k',\n",
       "   'preferred_city': '北京',\n",
       "   'job_industry': '计算机软件',\n",
       "   'job_type': '校招'}],\n",
       " 'basic_info': {'name': '张文博',\n",
       "  'age': '21',\n",
       "  'sex': '男',\n",
       "  'native_place': '内蒙古自治区',\n",
       "  'education': '本科',\n",
       "  'if_party_membership': '共青团员',\n",
       "  'marital_status': '',\n",
       "  'phone_number': '15602032933',\n",
       "  'email': 'Hotcocoa.Canary@outlook.com',\n",
       "  'if_fresh_graduate': '是',\n",
       "  'years_of_work_experience': '',\n",
       "  'expected_salary': ''},\n",
       " 'work_experience': [{'company': '北京以塔科技有限公司',\n",
       "   'position': '大模型开发实习生',\n",
       "   'location': '',\n",
       "   'duration': '2024.02 - 2024.10',\n",
       "   'responsibilities': [{'item': '智能简历解析系统开发',\n",
       "     'description': '应对企业多格式简历智能处理需求，设计可扩展的AI解析引擎。构建基于大模型的简历结构化处理与诊断系统。采用大模型Prompt工程针对项目接口进行开发（包含：简历诊断，pdf简历信息提取，图片简历信息提取，简历优化）。完成大模型返回值提取规范化json功能，实现业务核心逻辑简历诊断及评分，实现业务核心逻辑简历优化，对大模型Prompt的调试更加得心应手，对与要求大模型返回值的规范化处理积累一定经验，熟悉git开发流程。'},\n",
       "    {'item': 'RAG增强问答系统开发',\n",
       "     'description': '构建基于pdf检索增强生成的问答系统。实现文档智能解析与语义检索核心模块。基于LangChain搭建处理流水线，设计混合检索策略：关键词匹配 + 语义检索（ChromaDB向量库），实现上下文感知问答：通过Prompt工程优化大模型响应准确。对大模型Prompt的调试有初步理解，了解RAG框架并实现了对应的工具包。'},\n",
       "    {'item': 'Dian项目后端架构与部署',\n",
       "     'description': '整合RAG以及PDF处理构建的基于预设知识库的问答系统。实现RAG工具打包，pdf高亮处理，以及整个项目在服务器上的前后端部署。采用Nginx反向代理架构，实现Flask API服务与Next.js前端服务的无缝集成，实现基础环境隔离：开发环境↔ 生产环境，通过环境变量实现配置隔离，使用PyPDFLoader对PDF进行高亮处理，使用base64数据进行前后端文件传输，使用PDF.js对前端pdf进行渲染和实现点击定位功能。完成后端与前端的ubutun服务器部署，完成MySQL数据库在ubutun服务器部署。'},\n",
       "    {'item': 'Note-taking系统开发',\n",
       "     'description': '构建企业级开发训练平台，验证关键技术方案可行性。实现用户系统与数据关系网络核心模块。采用Flask+JWT实现认证体系，Session机制维护登录态，设计MySQL实体-关系存储模型，支持双向关联查询，基于ECharts构建关系拓扑图，实现200+节点交互展示。完成从本地调试到生产部署的完整工程实践闭环。'}]}],\n",
       " 'project_experience': [{'project_name': 'AI-云寻',\n",
       "   'position': '',\n",
       "   'location': '',\n",
       "   'duration': '2024.12 - 2025.06',\n",
       "   'responsibilities': [{'item': '系统架构设计',\n",
       "     'description': '采用前后端分离架构，前端基于Vue 3、Element Plus及ECharts实现。后端基于Spring Boot搭建RESTful API。数据存储使用Neo4j图数据库。负责整体架构设计，明确系统目标，确保前后端高效协同。'},\n",
       "    {'item': '知识图谱可视化开发',\n",
       "     'description': '独立完成技术选型与模块划分。设计数据库表结构（论文、作者、机构、国家节点及关系）。通过Neo4j的Cypher语言实现复杂关系查询。使用ECharts力导向图动态展示知识图谱。基于Spring Boot封装数据接口，实现可视化效果。通过normalizedCypher方法将Neo4j查询结果规范化为JSON格式，优化大规模数据渲染性能，实现分页加载，提升用户体验。'},\n",
       "    {'item': '自然语言处理（NLP）模块',\n",
       "     'description': '集成Apache OpenNLP，实现英文实体识别（作者、机构、时间等），准确率达到85%。设计extractEntityAttributes方法，将非结构化文本解析为结构化数据。自动生成Cypher语句并写入Neo4j，提高数据处理效率。'}]}],\n",
       " 'education_experience': {'institution_name': '内蒙古农业大学',\n",
       "  'study_period': '2022.09 - 2025.07',\n",
       "  'academic_ranking': '',\n",
       "  'major': '软件工程',\n",
       "  'degree': '本科',\n",
       "  'campus_experience': [{'campus_activity': '计算机与信息工程学院创新创业协会',\n",
       "    'campus_position': '社团负责人',\n",
       "    'campus_description': '1. 参加机器人舞蹈大赛，负责舞台设备调配。\\n2. 组织新成员培训工作。'},\n",
       "   {'campus_activity': '计算机与信息工程学院学生团委学生会',\n",
       "    'campus_position': '办公室部门 - 部长',\n",
       "    'campus_description': '1. 担任学院办公室部门部长 ， 负责学院学生的综测加减分统计 ， 社会实践评分。\\n2. 配合学院团委 ， 完成各项任务。'}],\n",
       "  'description': ''},\n",
       " 'certificates': {'competition_awards': [{'item': '普通话二级甲等',\n",
       "    'description': ''},\n",
       "   {'item': '2023届“高教社”杯全国大学生数学建模竞赛内蒙古赛区赛区三等奖', 'description': ''},\n",
       "   {'item': '第十五届蓝桥杯全国软件和信息技术专业人才大赛个人赛省赛(软件赛)二等奖', 'description': ''},\n",
       "   {'item': '2024ICPC中国(西部)大学生程序设计竞赛银奖', 'description': ''},\n",
       "   {'item': '2024ICPC丝绸之路中国邀请赛银奖', 'description': ''},\n",
       "   {'item': '第二十五届仿生多人机器人舞蹈优秀奖', 'description': ''},\n",
       "   {'item': '第十四届“挑战杯”内蒙古大学生创业计划竞赛铜奖', 'description': ''}],\n",
       "  'patent_certificates': [],\n",
       "  'training_certificates': [],\n",
       "  'charity_certificates': [],\n",
       "  'skills_certificates': [],\n",
       "  'qualification_certificates': []},\n",
       " 'technical_skills': [{'skill_name': 'Spring Boot',\n",
       "   'skill_level': '',\n",
       "   'skill_description': '学习自动化配置、RESTful API开发，掌握核心注解。'},\n",
       "  {'skill_name': 'MyBatis',\n",
       "   'skill_level': '',\n",
       "   'skill_description': '深入理解ORM框架，实现动态SQL编写、多表联查及事务管理。'},\n",
       "  {'skill_name': 'SSM整合',\n",
       "   'skill_level': '',\n",
       "   'skill_description': '完成Spring MVC、Spring、MyBatis框架整合，设计分层架构（Controller-Service-DAO）。'}],\n",
       " 'portfolio': []}"
      ]
     },
     "execution_count": 7,
     "metadata": {},
     "output_type": "execute_result"
    }
   ],
   "execution_count": 7
  },
  {
   "metadata": {
    "ExecuteTime": {
     "end_time": "2025-05-01T06:53:28.864573Z",
     "start_time": "2025-05-01T06:53:03.758581Z"
    }
   },
   "cell_type": "code",
   "source": [
    "# 简历信息输出以及优化对话窗口\n",
    "BETTER_RESUME_MOD_LIST = [\"work_experience\", \"education_experience\", \"project_experience\"]\n",
    "\n",
    "# 遍历resume_json_old中的每个键值对\n",
    "for key, value in resume_json_old.items():\n",
    "    # 如果键不在BETTER_RESUME_MOD_LIST中，直接输出\n",
    "    if key not in BETTER_RESUME_MOD_LIST:\n",
    "        print(f\"{key}模块信息如下：\")\n",
    "        print(f\"{value}\")\n",
    "        print(\"#######################################################\")\n",
    "    # 如果键在BETTER_RESUME_MOD_LIST中，输出old原有的值\n",
    "    else:\n",
    "        print(f\"{key}模块信息如下：\")\n",
    "        print(f\"{value}\")\n",
    "        print(f\"{key}模块初步优化后的结果如下，如果有问题或者建议可以直接指正，没有请输入“没有问题”，我们将进行下一个模块的优化\")\n",
    "        print(f\"{key} (new): {resume_json_new[key]}\")\n",
    "        message=[\n",
    "            {\n",
    "                \"role\": \"user\",\n",
    "                \"content\": f\"{key}模块信息如下：\"\n",
    "            },\n",
    "            {\n",
    "                \"role\": \"assistant\",\n",
    "                \"content\": f\"{key}模块初步优化后的结果如下，如果有问题或者建议可以直接指正，我将会按照你的要求重新优化\"+str(resume_json_new[key])\n",
    "            }\n",
    "        ]\n",
    "        while input()!= \"没有问题\":\n",
    "            message.append({\n",
    "                \"role\": \"user\",\n",
    "                \"content\": input()\n",
    "            })\n",
    "            format_content = read_txt(\"assets/txt/greater_resume_module/\"+key+\".txt\")\n",
    "            better_part_content = better_resume_by_module_chat(format_content, message, value)\n",
    "            message.append({\n",
    "                \"role\": \"assistant\",\n",
    "                \"content\": f\"按照你的要求，优化后的结果如下，如果有问题或者建议可以直接指正，我将会按照你的要求重新优化\"+better_part_content\n",
    "            })\n",
    "            print(f\"按照你的要求，优化后的结果如下，如果有问题或者建议可以直接指正，我将会按照你的要求重新优化\"+better_part_content)\n",
    "        print(\"#######################################################\")"
   ],
   "id": "bb5aef09ec222628",
   "outputs": [
    {
     "name": "stdout",
     "output_type": "stream",
     "text": [
      "job_intent_info模块信息如下：\n",
      "[{'job_intention': '后端开发', 'expected_salary': '8k-20k', 'preferred_city': '北京', 'job_industry': '计算机软件', 'job_type': '校招'}]\n",
      "#######################################################\n",
      "basic_info模块信息如下：\n",
      "{'name': '张文博', 'age': '21', 'sex': '男', 'native_place': '内蒙古自治区', 'education': '本科', 'if_party_membership': '共青团员', 'marital_status': '', 'phone_number': '15602032933', 'email': 'Hotcocoa.Canary@outlook.com', 'if_fresh_graduate': '是', 'years_of_work_experience': '', 'expected_salary': ''}\n",
      "#######################################################\n",
      "work_experience模块信息如下：\n",
      "[{'job_position': '大模型开发实习生', 'work_period': '2024.02 - 2024.10', 'company_name': '北京以塔科技有限公司', 'work_content': '• 智能简历解析系统开发。\\n• Context：应对企业多格式简历智能处理需求，设计可扩展的AI解析引擎。\\n• Task：构建基于大模型的简历结构化处理与诊断系统。\\n• Action：采用大模型Prompt工程针对项目接口进行开发（包含：简历诊断，pdf简历信息提取，图片简历信息提取，\\n简历优化）。\\n• Result：完成大模型返回值提取规范化json功能，实现业务核心逻辑简历诊断及评分，实现业务核心逻辑简历优化，\\n对大模型Prompt的调试更加得心应手，对与要求大模型返回值的规范化处理积累一定经验，熟悉git开发流程。\\n• RAG增强问答系统开发。\\n•  Context：构建基于pdf检索增强生成的问答系统。\\n• Task：实现文档智能解析与语义检索核心模块。\\n• Action：基于LangChain搭建处理流水线，设计混合检索策略：关键词匹配 + 语义检索（ChromaDB向量库），实\\n现上下文感知问答：通过Prompt工程优化大模型响应准确。\\n• Result：对大模型Prompt的调试有初步理解，了解RAG框架并实现了对应的工具包。\\n• Dian项目后端架构与部署。\\n• Context：整合RAG以及PDF处理构建的基于预设知识库的问答系统。\\n• Task：实现RAG工具打包，pdf高亮处理，以及整个项目在服务器上的前后端部署。\\n• Action：采用Nginx反向代理架构，实现Flask API服务与Next.js前端服务的无缝集成，实现基础环境隔离：开发环境\\n↔ 生产环境，通过环境变量实现配置隔离，使用PyPDFLoader对PDF进行高亮处理，使用base64数据进行前后端文\\n件传输，使用PDF.js对前端pdf进行渲染和实现点击定位功能。\\n• Result：完成后端与前端的ubutun服务器部署，完成MySQL数据库在ubutun服务器部署。\\n• Note-taking系统开发。\\n• Context：构建企业级开发训练平台，验证关键技术方案可行性。\\n• Task：实现用户系统与数据关系网络核心模块。\\n• Action：采用Flask+JWT实现认证体系，Session机制维护登录态，设计MySQL实体-关系存储模型，支持双向关联\\n查询，基于ECharts构建关系拓扑图，实现200+节点交互展示。\\n• Result：完成从本地调试到生产部署的完整工程实践闭环。'}]\n",
      "work_experience模块初步优化后的结果如下，如果有问题或者建议可以直接指正，没有请输入“没有问题”，我们将进行下一个模块的优化\n",
      "work_experience (new): [{'company': '北京以塔科技有限公司', 'position': '大模型开发实习生', 'location': '', 'duration': '2024.02 - 2024.10', 'responsibilities': [{'item': '智能简历解析系统开发', 'description': '应对企业多格式简历智能处理需求，设计可扩展的AI解析引擎。构建基于大模型的简历结构化处理与诊断系统。采用大模型Prompt工程针对项目接口进行开发（包含：简历诊断，pdf简历信息提取，图片简历信息提取，简历优化）。完成大模型返回值提取规范化json功能，实现业务核心逻辑简历诊断及评分，实现业务核心逻辑简历优化，对大模型Prompt的调试更加得心应手，对与要求大模型返回值的规范化处理积累一定经验，熟悉git开发流程。'}, {'item': 'RAG增强问答系统开发', 'description': '构建基于pdf检索增强生成的问答系统。实现文档智能解析与语义检索核心模块。基于LangChain搭建处理流水线，设计混合检索策略：关键词匹配 + 语义检索（ChromaDB向量库），实现上下文感知问答：通过Prompt工程优化大模型响应准确。对大模型Prompt的调试有初步理解，了解RAG框架并实现了对应的工具包。'}, {'item': 'Dian项目后端架构与部署', 'description': '整合RAG以及PDF处理构建的基于预设知识库的问答系统。实现RAG工具打包，pdf高亮处理，以及整个项目在服务器上的前后端部署。采用Nginx反向代理架构，实现Flask API服务与Next.js前端服务的无缝集成，实现基础环境隔离：开发环境↔ 生产环境，通过环境变量实现配置隔离，使用PyPDFLoader对PDF进行高亮处理，使用base64数据进行前后端文件传输，使用PDF.js对前端pdf进行渲染和实现点击定位功能。完成后端与前端的ubutun服务器部署，完成MySQL数据库在ubutun服务器部署。'}, {'item': 'Note-taking系统开发', 'description': '构建企业级开发训练平台，验证关键技术方案可行性。实现用户系统与数据关系网络核心模块。采用Flask+JWT实现认证体系，Session机制维护登录态，设计MySQL实体-关系存储模型，支持双向关联查询，基于ECharts构建关系拓扑图，实现200+节点交互展示。完成从本地调试到生产部署的完整工程实践闭环。'}]}]\n",
      "#######################################################\n",
      "project_experience模块信息如下：\n",
      "[{'project_name': 'AI-云寻', 'project_position': '', 'project_period': '2024.12 - 2025.06', 'project_company_name': '', 'project_description': '• 系统架构设计。\\n• a. 采用前后端分离架构，前端基于Vue 3、Element Plus及ECharts实现。\\n• b. 后端基于Spring Boot搭建RESTful API。\\n• c. 数据存储使用Neo4j图数据库。\\n• d. 负责整体架构设计，明确系统目标，确保前后端高效协同。\\n• 知识图谱可视化开发。\\n• a. 独立完成技术选型与模块划分。\\n• b. 设计数据库表结构（论文、作者、机构、国家节点及关系）。\\n• c. 通过Neo4j的Cypher语言实现复杂关系查询。\\n• d. 使用ECharts力导向图动态展示知识图谱。\\n• e. 基于Spring Boot封装数据接口，实现可视化效果。\\n• f. 通过normalizedCypher方法将Neo4j查询结果规范化为JSON格式，优化大规模数据渲染性能，实现分页加载，提升\\n用户体验。\\n• 自然语言处理（NLP）模块。\\n• a. 集成Apache OpenNLP，实现英文实体识别（作者、机构、时间等），准确率达到85%。\\n• b. 设计extractEntityAttributes方法，将非结构化文本解析为结构化数据。\\n• c. 自动生成Cypher语句并写入Neo4j，提高数据处理效率。\\n• 数据管理功能开发。\\n• a. 多格式数据导入：基于Apache POI实现Excel数据解析，支持论文、作者、机构批量导入，提高数据导入效率。\\n• b. 数据导出与备份：开发Excel导出工具，支持论文关联关系一键生成报表，实现数据导出与备份功能。\\n• 智能问答模块。\\n• a. 结合NLP与Neo4j图查询，实现语义化问答接口。'}]\n",
      "project_experience模块初步优化后的结果如下，如果有问题或者建议可以直接指正，没有请输入“没有问题”，我们将进行下一个模块的优化\n",
      "project_experience (new): [{'project_name': 'AI-云寻', 'position': '', 'location': '', 'duration': '2024.12 - 2025.06', 'responsibilities': [{'item': '系统架构设计', 'description': '采用前后端分离架构，前端基于Vue 3、Element Plus及ECharts实现。后端基于Spring Boot搭建RESTful API。数据存储使用Neo4j图数据库。负责整体架构设计，明确系统目标，确保前后端高效协同。'}, {'item': '知识图谱可视化开发', 'description': '独立完成技术选型与模块划分。设计数据库表结构（论文、作者、机构、国家节点及关系）。通过Neo4j的Cypher语言实现复杂关系查询。使用ECharts力导向图动态展示知识图谱。基于Spring Boot封装数据接口，实现可视化效果。通过normalizedCypher方法将Neo4j查询结果规范化为JSON格式，优化大规模数据渲染性能，实现分页加载，提升用户体验。'}, {'item': '自然语言处理（NLP）模块', 'description': '集成Apache OpenNLP，实现英文实体识别（作者、机构、时间等），准确率达到85%。设计extractEntityAttributes方法，将非结构化文本解析为结构化数据。自动生成Cypher语句并写入Neo4j，提高数据处理效率。'}]}]\n"
     ]
    },
    {
     "ename": "KeyboardInterrupt",
     "evalue": "Interrupted by user",
     "output_type": "error",
     "traceback": [
      "\u001B[31m---------------------------------------------------------------------------\u001B[39m",
      "\u001B[31mKeyboardInterrupt\u001B[39m                         Traceback (most recent call last)",
      "\u001B[36mCell\u001B[39m\u001B[36m \u001B[39m\u001B[32mIn[9]\u001B[39m\u001B[32m, line 27\u001B[39m\n\u001B[32m     16\u001B[39m \u001B[38;5;28mprint\u001B[39m(\u001B[33mf\u001B[39m\u001B[33m\"\u001B[39m\u001B[38;5;132;01m{\u001B[39;00mkey\u001B[38;5;132;01m}\u001B[39;00m\u001B[33m (new): \u001B[39m\u001B[38;5;132;01m{\u001B[39;00mresume_json_new[key]\u001B[38;5;132;01m}\u001B[39;00m\u001B[33m\"\u001B[39m)\n\u001B[32m     17\u001B[39m message=[\n\u001B[32m     18\u001B[39m     {\n\u001B[32m     19\u001B[39m         \u001B[33m\"\u001B[39m\u001B[33mrole\u001B[39m\u001B[33m\"\u001B[39m: \u001B[33m\"\u001B[39m\u001B[33muser\u001B[39m\u001B[33m\"\u001B[39m,\n\u001B[32m   (...)\u001B[39m\u001B[32m     25\u001B[39m     }\n\u001B[32m     26\u001B[39m ]\n\u001B[32m---> \u001B[39m\u001B[32m27\u001B[39m \u001B[38;5;28;01mwhile\u001B[39;00m \u001B[38;5;28;43minput\u001B[39;49m\u001B[43m(\u001B[49m\u001B[43m)\u001B[49m!= \u001B[33m\"\u001B[39m\u001B[33m没有问题\u001B[39m\u001B[33m\"\u001B[39m:\n\u001B[32m     28\u001B[39m     message.append({\n\u001B[32m     29\u001B[39m         \u001B[33m\"\u001B[39m\u001B[33mrole\u001B[39m\u001B[33m\"\u001B[39m: \u001B[33m\"\u001B[39m\u001B[33muser\u001B[39m\u001B[33m\"\u001B[39m,\n\u001B[32m     30\u001B[39m         \u001B[33m\"\u001B[39m\u001B[33mcontent\u001B[39m\u001B[33m\"\u001B[39m: \u001B[38;5;28minput\u001B[39m()\n\u001B[32m     31\u001B[39m     })\n\u001B[32m     32\u001B[39m     format_content = read_txt(\u001B[33m\"\u001B[39m\u001B[33massets/txt/greater_resume_module/\u001B[39m\u001B[33m\"\u001B[39m+key+\u001B[33m\"\u001B[39m\u001B[33m.txt\u001B[39m\u001B[33m\"\u001B[39m)\n",
      "\u001B[36mFile \u001B[39m\u001B[32mD:\\Python\\Python313\\Lib\\site-packages\\ipykernel\\kernelbase.py:1282\u001B[39m, in \u001B[36mKernel.raw_input\u001B[39m\u001B[34m(self, prompt)\u001B[39m\n\u001B[32m   1280\u001B[39m     msg = \u001B[33m\"\u001B[39m\u001B[33mraw_input was called, but this frontend does not support input requests.\u001B[39m\u001B[33m\"\u001B[39m\n\u001B[32m   1281\u001B[39m     \u001B[38;5;28;01mraise\u001B[39;00m StdinNotImplementedError(msg)\n\u001B[32m-> \u001B[39m\u001B[32m1282\u001B[39m \u001B[38;5;28;01mreturn\u001B[39;00m \u001B[38;5;28;43mself\u001B[39;49m\u001B[43m.\u001B[49m\u001B[43m_input_request\u001B[49m\u001B[43m(\u001B[49m\n\u001B[32m   1283\u001B[39m \u001B[43m    \u001B[49m\u001B[38;5;28;43mstr\u001B[39;49m\u001B[43m(\u001B[49m\u001B[43mprompt\u001B[49m\u001B[43m)\u001B[49m\u001B[43m,\u001B[49m\n\u001B[32m   1284\u001B[39m \u001B[43m    \u001B[49m\u001B[38;5;28;43mself\u001B[39;49m\u001B[43m.\u001B[49m\u001B[43m_parent_ident\u001B[49m\u001B[43m[\u001B[49m\u001B[33;43m\"\u001B[39;49m\u001B[33;43mshell\u001B[39;49m\u001B[33;43m\"\u001B[39;49m\u001B[43m]\u001B[49m\u001B[43m,\u001B[49m\n\u001B[32m   1285\u001B[39m \u001B[43m    \u001B[49m\u001B[38;5;28;43mself\u001B[39;49m\u001B[43m.\u001B[49m\u001B[43mget_parent\u001B[49m\u001B[43m(\u001B[49m\u001B[33;43m\"\u001B[39;49m\u001B[33;43mshell\u001B[39;49m\u001B[33;43m\"\u001B[39;49m\u001B[43m)\u001B[49m\u001B[43m,\u001B[49m\n\u001B[32m   1286\u001B[39m \u001B[43m    \u001B[49m\u001B[43mpassword\u001B[49m\u001B[43m=\u001B[49m\u001B[38;5;28;43;01mFalse\u001B[39;49;00m\u001B[43m,\u001B[49m\n\u001B[32m   1287\u001B[39m \u001B[43m\u001B[49m\u001B[43m)\u001B[49m\n",
      "\u001B[36mFile \u001B[39m\u001B[32mD:\\Python\\Python313\\Lib\\site-packages\\ipykernel\\kernelbase.py:1325\u001B[39m, in \u001B[36mKernel._input_request\u001B[39m\u001B[34m(self, prompt, ident, parent, password)\u001B[39m\n\u001B[32m   1322\u001B[39m \u001B[38;5;28;01mexcept\u001B[39;00m \u001B[38;5;167;01mKeyboardInterrupt\u001B[39;00m:\n\u001B[32m   1323\u001B[39m     \u001B[38;5;66;03m# re-raise KeyboardInterrupt, to truncate traceback\u001B[39;00m\n\u001B[32m   1324\u001B[39m     msg = \u001B[33m\"\u001B[39m\u001B[33mInterrupted by user\u001B[39m\u001B[33m\"\u001B[39m\n\u001B[32m-> \u001B[39m\u001B[32m1325\u001B[39m     \u001B[38;5;28;01mraise\u001B[39;00m \u001B[38;5;167;01mKeyboardInterrupt\u001B[39;00m(msg) \u001B[38;5;28;01mfrom\u001B[39;00m\u001B[38;5;250m \u001B[39m\u001B[38;5;28;01mNone\u001B[39;00m\n\u001B[32m   1326\u001B[39m \u001B[38;5;28;01mexcept\u001B[39;00m \u001B[38;5;167;01mException\u001B[39;00m:\n\u001B[32m   1327\u001B[39m     \u001B[38;5;28mself\u001B[39m.log.warning(\u001B[33m\"\u001B[39m\u001B[33mInvalid Message:\u001B[39m\u001B[33m\"\u001B[39m, exc_info=\u001B[38;5;28;01mTrue\u001B[39;00m)\n",
      "\u001B[31mKeyboardInterrupt\u001B[39m: Interrupted by user"
     ]
    }
   ],
   "execution_count": 9
  }
 ],
 "metadata": {
  "kernelspec": {
   "display_name": "Python 3",
   "language": "python",
   "name": "python3"
  },
  "language_info": {
   "codemirror_mode": {
    "name": "ipython",
    "version": 2
   },
   "file_extension": ".py",
   "mimetype": "text/x-python",
   "name": "python",
   "nbconvert_exporter": "python",
   "pygments_lexer": "ipython2",
   "version": "2.7.6"
  }
 },
 "nbformat": 4,
 "nbformat_minor": 5
}
